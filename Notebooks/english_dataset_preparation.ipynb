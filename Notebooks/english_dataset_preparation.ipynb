{
  "nbformat": 4,
  "nbformat_minor": 0,
  "metadata": {
    "colab": {
      "provenance": [],
      "authorship_tag": "ABX9TyOyjx4MgiJoS81RlyfqyvoM",
      "include_colab_link": true
    },
    "kernelspec": {
      "name": "python3",
      "display_name": "Python 3"
    },
    "language_info": {
      "name": "python"
    }
  },
  "cells": [
    {
      "cell_type": "markdown",
      "metadata": {
        "id": "view-in-github",
        "colab_type": "text"
      },
      "source": [
        "<a href=\"https://colab.research.google.com/github/Emmazch22/Paula_y_Emmanuel_CI0134/blob/main/english_dataset_preparation.ipynb\" target=\"_parent\"><img src=\"https://colab.research.google.com/assets/colab-badge.svg\" alt=\"Open In Colab\"/></a>"
      ]
    },
    {
      "cell_type": "code",
      "source": [
        "!pip install unidecode"
      ],
      "metadata": {
        "colab": {
          "base_uri": "https://localhost:8080/"
        },
        "id": "l6dkulxiNTCf",
        "outputId": "fe2f6be7-f517-4575-9abb-a1d84f3a3ceb"
      },
      "execution_count": 1,
      "outputs": [
        {
          "output_type": "stream",
          "name": "stdout",
          "text": [
            "Looking in indexes: https://pypi.org/simple, https://us-python.pkg.dev/colab-wheels/public/simple/\n",
            "Collecting unidecode\n",
            "  Downloading Unidecode-1.3.6-py3-none-any.whl (235 kB)\n",
            "\u001b[2K     \u001b[90m━━━━━━━━━━━━━━━━━━━━━━━━━━━━━━━━━━━━━━━\u001b[0m \u001b[32m235.9/235.9 kB\u001b[0m \u001b[31m5.3 MB/s\u001b[0m eta \u001b[36m0:00:00\u001b[0m\n",
            "\u001b[?25hInstalling collected packages: unidecode\n",
            "Successfully installed unidecode-1.3.6\n"
          ]
        }
      ]
    },
    {
      "cell_type": "code",
      "execution_count": 27,
      "metadata": {
        "id": "Ok48zQDiLu1d"
      },
      "outputs": [],
      "source": [
        "import pandas as pd\n",
        "import matplotlib.pyplot as plt\n",
        "from google.colab import drive\n",
        "from unidecode import unidecode\n",
        "import re\n",
        "\n",
        "%matplotlib inline"
      ]
    },
    {
      "cell_type": "code",
      "source": [
        "# Se carga la libreria drive de google para cargar los archivos almacenados en drive\n",
        "drive.mount(\"/content/gdrive\")\n",
        "\n",
        "# El dataset en cuestión contiene datos sobre tweets en diferentes idiomas, pero nos interesa utilizar solo\n",
        "# los que se encuentran en ingles.\n",
        "tweets = pd.read_csv('/content/gdrive/My Drive/tweets.csv').query('Language == \"en\"')\n",
        "tweets = tweets[(tweets['Label'] == 'positive') | (tweets['Label'] == 'negative')]"
      ],
      "metadata": {
        "colab": {
          "base_uri": "https://localhost:8080/"
        },
        "id": "7qtQLjK6NsKR",
        "outputId": "6628949d-9092-45d2-f2dc-c0361029164c"
      },
      "execution_count": 5,
      "outputs": [
        {
          "output_type": "stream",
          "name": "stdout",
          "text": [
            "Drive already mounted at /content/gdrive; to attempt to forcibly remount, call drive.mount(\"/content/gdrive\", force_remount=True).\n"
          ]
        }
      ]
    },
    {
      "cell_type": "code",
      "source": [
        "tweets.head(10)"
      ],
      "metadata": {
        "colab": {
          "base_uri": "https://localhost:8080/",
          "height": 363
        },
        "id": "CNl4YpTYN5uu",
        "outputId": "e1a8e425-202d-4b14-fc14-bf9335f57e61"
      },
      "execution_count": 6,
      "outputs": [
        {
          "output_type": "execute_result",
          "data": {
            "text/plain": [
              "                                                 Text Language     Label\n",
              "3   Rwanda is set to host the headquarters of Unit...       en  positive\n",
              "5   It sucks for me since I'm focused on the natur...       en  negative\n",
              "8   Social Security. Constant political crises dis...       en  negative\n",
              "9   @FilmThePoliceLA A broken rib can puncture a l...       en  negative\n",
              "10  @jacobringenwald @aKeithWatts @CountDankulaTV ...       en  negative\n",
              "11  @NZ_HK_SU @telebusiness My question was rhetor...       en  negative\n",
              "12  Wimbledon: Nick Kyrgios admits spitting toward...       en  positive\n",
              "13  is booktwt a thing? if so thats her and she sp...       en  positive\n",
              "16  @roipaee @joe98100959 @Formula1game @redbullra...       en  negative\n",
              "17  🤩 Power back on (1855749):  North VI in Ladysm...       en  negative"
            ],
            "text/html": [
              "\n",
              "  <div id=\"df-85c36737-1963-4f4a-bc5e-d3a800cad460\">\n",
              "    <div class=\"colab-df-container\">\n",
              "      <div>\n",
              "<style scoped>\n",
              "    .dataframe tbody tr th:only-of-type {\n",
              "        vertical-align: middle;\n",
              "    }\n",
              "\n",
              "    .dataframe tbody tr th {\n",
              "        vertical-align: top;\n",
              "    }\n",
              "\n",
              "    .dataframe thead th {\n",
              "        text-align: right;\n",
              "    }\n",
              "</style>\n",
              "<table border=\"1\" class=\"dataframe\">\n",
              "  <thead>\n",
              "    <tr style=\"text-align: right;\">\n",
              "      <th></th>\n",
              "      <th>Text</th>\n",
              "      <th>Language</th>\n",
              "      <th>Label</th>\n",
              "    </tr>\n",
              "  </thead>\n",
              "  <tbody>\n",
              "    <tr>\n",
              "      <th>3</th>\n",
              "      <td>Rwanda is set to host the headquarters of Unit...</td>\n",
              "      <td>en</td>\n",
              "      <td>positive</td>\n",
              "    </tr>\n",
              "    <tr>\n",
              "      <th>5</th>\n",
              "      <td>It sucks for me since I'm focused on the natur...</td>\n",
              "      <td>en</td>\n",
              "      <td>negative</td>\n",
              "    </tr>\n",
              "    <tr>\n",
              "      <th>8</th>\n",
              "      <td>Social Security. Constant political crises dis...</td>\n",
              "      <td>en</td>\n",
              "      <td>negative</td>\n",
              "    </tr>\n",
              "    <tr>\n",
              "      <th>9</th>\n",
              "      <td>@FilmThePoliceLA A broken rib can puncture a l...</td>\n",
              "      <td>en</td>\n",
              "      <td>negative</td>\n",
              "    </tr>\n",
              "    <tr>\n",
              "      <th>10</th>\n",
              "      <td>@jacobringenwald @aKeithWatts @CountDankulaTV ...</td>\n",
              "      <td>en</td>\n",
              "      <td>negative</td>\n",
              "    </tr>\n",
              "    <tr>\n",
              "      <th>11</th>\n",
              "      <td>@NZ_HK_SU @telebusiness My question was rhetor...</td>\n",
              "      <td>en</td>\n",
              "      <td>negative</td>\n",
              "    </tr>\n",
              "    <tr>\n",
              "      <th>12</th>\n",
              "      <td>Wimbledon: Nick Kyrgios admits spitting toward...</td>\n",
              "      <td>en</td>\n",
              "      <td>positive</td>\n",
              "    </tr>\n",
              "    <tr>\n",
              "      <th>13</th>\n",
              "      <td>is booktwt a thing? if so thats her and she sp...</td>\n",
              "      <td>en</td>\n",
              "      <td>positive</td>\n",
              "    </tr>\n",
              "    <tr>\n",
              "      <th>16</th>\n",
              "      <td>@roipaee @joe98100959 @Formula1game @redbullra...</td>\n",
              "      <td>en</td>\n",
              "      <td>negative</td>\n",
              "    </tr>\n",
              "    <tr>\n",
              "      <th>17</th>\n",
              "      <td>🤩 Power back on (1855749):  North VI in Ladysm...</td>\n",
              "      <td>en</td>\n",
              "      <td>negative</td>\n",
              "    </tr>\n",
              "  </tbody>\n",
              "</table>\n",
              "</div>\n",
              "      <button class=\"colab-df-convert\" onclick=\"convertToInteractive('df-85c36737-1963-4f4a-bc5e-d3a800cad460')\"\n",
              "              title=\"Convert this dataframe to an interactive table.\"\n",
              "              style=\"display:none;\">\n",
              "        \n",
              "  <svg xmlns=\"http://www.w3.org/2000/svg\" height=\"24px\"viewBox=\"0 0 24 24\"\n",
              "       width=\"24px\">\n",
              "    <path d=\"M0 0h24v24H0V0z\" fill=\"none\"/>\n",
              "    <path d=\"M18.56 5.44l.94 2.06.94-2.06 2.06-.94-2.06-.94-.94-2.06-.94 2.06-2.06.94zm-11 1L8.5 8.5l.94-2.06 2.06-.94-2.06-.94L8.5 2.5l-.94 2.06-2.06.94zm10 10l.94 2.06.94-2.06 2.06-.94-2.06-.94-.94-2.06-.94 2.06-2.06.94z\"/><path d=\"M17.41 7.96l-1.37-1.37c-.4-.4-.92-.59-1.43-.59-.52 0-1.04.2-1.43.59L10.3 9.45l-7.72 7.72c-.78.78-.78 2.05 0 2.83L4 21.41c.39.39.9.59 1.41.59.51 0 1.02-.2 1.41-.59l7.78-7.78 2.81-2.81c.8-.78.8-2.07 0-2.86zM5.41 20L4 18.59l7.72-7.72 1.47 1.35L5.41 20z\"/>\n",
              "  </svg>\n",
              "      </button>\n",
              "      \n",
              "  <style>\n",
              "    .colab-df-container {\n",
              "      display:flex;\n",
              "      flex-wrap:wrap;\n",
              "      gap: 12px;\n",
              "    }\n",
              "\n",
              "    .colab-df-convert {\n",
              "      background-color: #E8F0FE;\n",
              "      border: none;\n",
              "      border-radius: 50%;\n",
              "      cursor: pointer;\n",
              "      display: none;\n",
              "      fill: #1967D2;\n",
              "      height: 32px;\n",
              "      padding: 0 0 0 0;\n",
              "      width: 32px;\n",
              "    }\n",
              "\n",
              "    .colab-df-convert:hover {\n",
              "      background-color: #E2EBFA;\n",
              "      box-shadow: 0px 1px 2px rgba(60, 64, 67, 0.3), 0px 1px 3px 1px rgba(60, 64, 67, 0.15);\n",
              "      fill: #174EA6;\n",
              "    }\n",
              "\n",
              "    [theme=dark] .colab-df-convert {\n",
              "      background-color: #3B4455;\n",
              "      fill: #D2E3FC;\n",
              "    }\n",
              "\n",
              "    [theme=dark] .colab-df-convert:hover {\n",
              "      background-color: #434B5C;\n",
              "      box-shadow: 0px 1px 3px 1px rgba(0, 0, 0, 0.15);\n",
              "      filter: drop-shadow(0px 1px 2px rgba(0, 0, 0, 0.3));\n",
              "      fill: #FFFFFF;\n",
              "    }\n",
              "  </style>\n",
              "\n",
              "      <script>\n",
              "        const buttonEl =\n",
              "          document.querySelector('#df-85c36737-1963-4f4a-bc5e-d3a800cad460 button.colab-df-convert');\n",
              "        buttonEl.style.display =\n",
              "          google.colab.kernel.accessAllowed ? 'block' : 'none';\n",
              "\n",
              "        async function convertToInteractive(key) {\n",
              "          const element = document.querySelector('#df-85c36737-1963-4f4a-bc5e-d3a800cad460');\n",
              "          const dataTable =\n",
              "            await google.colab.kernel.invokeFunction('convertToInteractive',\n",
              "                                                     [key], {});\n",
              "          if (!dataTable) return;\n",
              "\n",
              "          const docLinkHtml = 'Like what you see? Visit the ' +\n",
              "            '<a target=\"_blank\" href=https://colab.research.google.com/notebooks/data_table.ipynb>data table notebook</a>'\n",
              "            + ' to learn more about interactive tables.';\n",
              "          element.innerHTML = '';\n",
              "          dataTable['output_type'] = 'display_data';\n",
              "          await google.colab.output.renderOutput(dataTable, element);\n",
              "          const docLink = document.createElement('div');\n",
              "          docLink.innerHTML = docLinkHtml;\n",
              "          element.appendChild(docLink);\n",
              "        }\n",
              "      </script>\n",
              "    </div>\n",
              "  </div>\n",
              "  "
            ]
          },
          "metadata": {},
          "execution_count": 6
        }
      ]
    },
    {
      "cell_type": "code",
      "source": [
        "tweets.shape"
      ],
      "metadata": {
        "colab": {
          "base_uri": "https://localhost:8080/"
        },
        "id": "nvogjS9nOz9o",
        "outputId": "43767460-ea9c-4276-ed23-f56aa18ca3e9"
      },
      "execution_count": 7,
      "outputs": [
        {
          "output_type": "execute_result",
          "data": {
            "text/plain": [
              "(492662, 3)"
            ]
          },
          "metadata": {},
          "execution_count": 7
        }
      ]
    },
    {
      "cell_type": "code",
      "source": [
        "tweets = tweets.drop('Language', axis=1)"
      ],
      "metadata": {
        "id": "qIIdGe55T3J0"
      },
      "execution_count": 16,
      "outputs": []
    },
    {
      "cell_type": "code",
      "source": [
        "n = 55360 # 111720 // 2\n",
        "\n",
        "positive = tweets[tweets['Label'] == 'positive']\n",
        "random_positive = positive.sample(n)\n",
        "print(random_positive.head())\n",
        "print(random_positive.shape)"
      ],
      "metadata": {
        "colab": {
          "base_uri": "https://localhost:8080/"
        },
        "id": "ozupyBE6Pnvb",
        "outputId": "6def5105-bc7c-4747-e2fc-c3ba077a73c1"
      },
      "execution_count": 17,
      "outputs": [
        {
          "output_type": "stream",
          "name": "stdout",
          "text": [
            "                                                     Text     Label\n",
            "445607  HotmarkPrint Revolution 1798 - OUR UNIVERSAL P...  positive\n",
            "614679  There's still time to register for tomorrow's ...  positive\n",
            "270362  planning to open pre order XH album for ina on...  positive\n",
            "925420  READ. THIS. THREAD. IF. YOU. WANT. TO. IMPROVE...  positive\n",
            "874748                   Charlie's dream 😂😂 #Supernatural  positive\n",
            "(55360, 2)\n"
          ]
        }
      ]
    },
    {
      "cell_type": "code",
      "source": [
        "negative = tweets[tweets['Label'] == 'negative']\n",
        "random_negative = negative.sample(n)\n",
        "print(random_negative.head())\n",
        "print(random_negative.shape)"
      ],
      "metadata": {
        "colab": {
          "base_uri": "https://localhost:8080/"
        },
        "id": "-sWvLUZQT76O",
        "outputId": "2b83313b-1dc6-41f3-a558-bc1e080997ae"
      },
      "execution_count": 18,
      "outputs": [
        {
          "output_type": "stream",
          "name": "stdout",
          "text": [
            "                                                     Text     Label\n",
            "580618  @Pebnet @bpaliwal @http40415 @Noori00786 @Meme...  negative\n",
            "694202  Trick question:\\n\\nJustice https://t.co/lmh0t2...  negative\n",
            "576970  he speaks about his violent motorcycle acciden...  negative\n",
            "778265                            Get lit 🔥 or Get Lost 😞  negative\n",
            "3655         @myvillaneve \"I blocked it out\" poor ant 🤣🤣🤣  negative\n",
            "(55360, 2)\n"
          ]
        }
      ]
    },
    {
      "cell_type": "code",
      "source": [
        "concat_df = pd.concat([random_positive, random_negative])\n",
        "print(concat_df.head(10))"
      ],
      "metadata": {
        "colab": {
          "base_uri": "https://localhost:8080/"
        },
        "id": "WZnxPDcPURoB",
        "outputId": "2eb6bc59-aff2-4e6f-e20a-822e0f04fa80"
      },
      "execution_count": 23,
      "outputs": [
        {
          "output_type": "stream",
          "name": "stdout",
          "text": [
            "                                                     Text     Label\n",
            "445607  HotmarkPrint Revolution 1798 - OUR UNIVERSAL P...  positive\n",
            "614679  There's still time to register for tomorrow's ...  positive\n",
            "270362  planning to open pre order XH album for ina on...  positive\n",
            "925420  READ. THIS. THREAD. IF. YOU. WANT. TO. IMPROVE...  positive\n",
            "874748                   Charlie's dream 😂😂 #Supernatural  positive\n",
            "144112  https://t.co/0G3lPoPC34 Lange boots video, is ...  positive\n",
            "230710  @CyberFrogsNFT Excited to see a new competitor...  positive\n",
            "282617  🍀🍀🍀🍀\\n#WINNER #위너 #4thMINIALBUM #HOLIDAY #RELE...  positive\n",
            "531602  Partner with Afya Intelligence and scale your ...  positive\n",
            "357118  The @GUNNAROptiks Torpedo-X @Razer Edition is ...  positive\n"
          ]
        }
      ]
    },
    {
      "cell_type": "code",
      "source": [
        "merged_df = concat_df.sample(frac=1).reset_index(drop=True)"
      ],
      "metadata": {
        "id": "mCd7aPRzUWRf"
      },
      "execution_count": 24,
      "outputs": []
    },
    {
      "cell_type": "code",
      "source": [
        "print(merged_df.head(10))"
      ],
      "metadata": {
        "colab": {
          "base_uri": "https://localhost:8080/"
        },
        "id": "RN8NnCIWVA6C",
        "outputId": "b0339a90-5315-4c1b-a053-27433a9dbfb1"
      },
      "execution_count": 25,
      "outputs": [
        {
          "output_type": "stream",
          "name": "stdout",
          "text": [
            "                                                Text     Label\n",
            "0  @salvatoshi From what I considered it seems th...  positive\n",
            "1  Son, 14, who has all the time in the world to ...  positive\n",
            "2                                            ur lost  negative\n",
            "3  @newsmax It’s much easier to determine facts w...  positive\n",
            "4    Asleep or awake, \\nI dream of you all the same.  positive\n",
            "5  @IsaiahArney @ProudSocialist .@IsaiahArney\\nAn...  negative\n",
            "6  boooo they are remodeling our office, and have...  negative\n",
            "7  @ericksancan91 I can see where people say it's...  negative\n",
            "8  @OMaraRules Oh dear, let's improve your sense ...  positive\n",
            "9  @Mexicanblueeye @tRoseH2 @debbiecasey3 @Honest...  negative\n"
          ]
        }
      ]
    },
    {
      "cell_type": "code",
      "source": [
        "merged_df.shape"
      ],
      "metadata": {
        "colab": {
          "base_uri": "https://localhost:8080/"
        },
        "id": "Url_jbfbVEbC",
        "outputId": "366babd8-c71c-4aab-fbfb-03c435190921"
      },
      "execution_count": 26,
      "outputs": [
        {
          "output_type": "execute_result",
          "data": {
            "text/plain": [
              "(110720, 2)"
            ]
          },
          "metadata": {},
          "execution_count": 26
        }
      ]
    },
    {
      "cell_type": "code",
      "source": [
        "def remove_emoji(string):\n",
        "  emoji_pattern = re.compile(\"[\"\n",
        "                           u\"\\U0001F600-\\U0001F64F\"  # emoticons\n",
        "                           u\"\\U0001F300-\\U0001F5FF\"  # symbols & pictographs\n",
        "                           u\"\\U0001F680-\\U0001F6FF\"  # transport & map symbols\n",
        "                           u\"\\U0001F1E0-\\U0001F1FF\"  # flags (iOS)\n",
        "                           u\"\\U00002702-\\U000027B0\"\n",
        "                           u\"\\U000024C2-\\U0001F251\"\n",
        "                           \"]+\", flags=re.UNICODE)\n",
        "  return emoji_pattern.sub(r'', string) \n",
        "\n",
        "def clean_tweet(tweet):\n",
        "    if type(tweet) == float:\n",
        "        return \"\"\n",
        "    temp = tweet.lower()\n",
        "    temp = unidecode(temp)\n",
        "    temp = re.sub(\"'\", \"\", temp) # to avoid removing contractions in english\n",
        "    temp = re.sub(\"@[A-Za-z0-9_ÑÁÉÍÓÚ]+\",\"\", temp)\n",
        "    temp = re.sub(\"#\",\"\", temp)\n",
        "    temp = remove_emoji(temp)\n",
        "    temp = re.sub(r'http\\S+', '', temp)\n",
        "    temp = re.sub('[()!?]', ' ', temp)\n",
        "    temp = re.sub('\\[.*?\\]',' ', temp)\n",
        "    temp = unidecode(temp)\n",
        "    temp = re.sub(\"[^a-zA-Z0-9ñáéíóú]\",\" \", temp)\n",
        "    return temp\n",
        "    \n",
        "## Una vez creadas las funciones se procede a realizar la limpieza de los tweets\n",
        "merged_df['Text'] = merged_df['Text'].map(lambda x : clean_tweet(x))"
      ],
      "metadata": {
        "id": "KX488cr4VUhq"
      },
      "execution_count": 28,
      "outputs": []
    },
    {
      "cell_type": "code",
      "source": [
        "merged_df.head(10)"
      ],
      "metadata": {
        "colab": {
          "base_uri": "https://localhost:8080/",
          "height": 363
        },
        "id": "5GPdZoReVeVz",
        "outputId": "11581d76-d603-4870-db4a-bcfcbe9d58a5"
      },
      "execution_count": 29,
      "outputs": [
        {
          "output_type": "execute_result",
          "data": {
            "text/plain": [
              "                                                Text     Label\n",
              "0   from what i considered it seems that adding s...  positive\n",
              "1  son  14  who has all the time in the world to ...  positive\n",
              "2                                            ur lost  negative\n",
              "3   its much easier to determine facts when one s...  positive\n",
              "4     asleep or awake   i dream of you all the same   positive\n",
              "5      and what what was your question   im not a...  negative\n",
              "6  boooo they are remodeling our office  and have...  negative\n",
              "7   i can see where people say its a party issue ...  negative\n",
              "8   oh dear  lets improve your sense of humor   r...  positive\n",
              "9      your ob sounds like an a hole  but they st...  negative"
            ],
            "text/html": [
              "\n",
              "  <div id=\"df-8ed30505-a609-4849-866d-6644e5479a77\">\n",
              "    <div class=\"colab-df-container\">\n",
              "      <div>\n",
              "<style scoped>\n",
              "    .dataframe tbody tr th:only-of-type {\n",
              "        vertical-align: middle;\n",
              "    }\n",
              "\n",
              "    .dataframe tbody tr th {\n",
              "        vertical-align: top;\n",
              "    }\n",
              "\n",
              "    .dataframe thead th {\n",
              "        text-align: right;\n",
              "    }\n",
              "</style>\n",
              "<table border=\"1\" class=\"dataframe\">\n",
              "  <thead>\n",
              "    <tr style=\"text-align: right;\">\n",
              "      <th></th>\n",
              "      <th>Text</th>\n",
              "      <th>Label</th>\n",
              "    </tr>\n",
              "  </thead>\n",
              "  <tbody>\n",
              "    <tr>\n",
              "      <th>0</th>\n",
              "      <td>from what i considered it seems that adding s...</td>\n",
              "      <td>positive</td>\n",
              "    </tr>\n",
              "    <tr>\n",
              "      <th>1</th>\n",
              "      <td>son  14  who has all the time in the world to ...</td>\n",
              "      <td>positive</td>\n",
              "    </tr>\n",
              "    <tr>\n",
              "      <th>2</th>\n",
              "      <td>ur lost</td>\n",
              "      <td>negative</td>\n",
              "    </tr>\n",
              "    <tr>\n",
              "      <th>3</th>\n",
              "      <td>its much easier to determine facts when one s...</td>\n",
              "      <td>positive</td>\n",
              "    </tr>\n",
              "    <tr>\n",
              "      <th>4</th>\n",
              "      <td>asleep or awake   i dream of you all the same</td>\n",
              "      <td>positive</td>\n",
              "    </tr>\n",
              "    <tr>\n",
              "      <th>5</th>\n",
              "      <td>and what what was your question   im not a...</td>\n",
              "      <td>negative</td>\n",
              "    </tr>\n",
              "    <tr>\n",
              "      <th>6</th>\n",
              "      <td>boooo they are remodeling our office  and have...</td>\n",
              "      <td>negative</td>\n",
              "    </tr>\n",
              "    <tr>\n",
              "      <th>7</th>\n",
              "      <td>i can see where people say its a party issue ...</td>\n",
              "      <td>negative</td>\n",
              "    </tr>\n",
              "    <tr>\n",
              "      <th>8</th>\n",
              "      <td>oh dear  lets improve your sense of humor   r...</td>\n",
              "      <td>positive</td>\n",
              "    </tr>\n",
              "    <tr>\n",
              "      <th>9</th>\n",
              "      <td>your ob sounds like an a hole  but they st...</td>\n",
              "      <td>negative</td>\n",
              "    </tr>\n",
              "  </tbody>\n",
              "</table>\n",
              "</div>\n",
              "      <button class=\"colab-df-convert\" onclick=\"convertToInteractive('df-8ed30505-a609-4849-866d-6644e5479a77')\"\n",
              "              title=\"Convert this dataframe to an interactive table.\"\n",
              "              style=\"display:none;\">\n",
              "        \n",
              "  <svg xmlns=\"http://www.w3.org/2000/svg\" height=\"24px\"viewBox=\"0 0 24 24\"\n",
              "       width=\"24px\">\n",
              "    <path d=\"M0 0h24v24H0V0z\" fill=\"none\"/>\n",
              "    <path d=\"M18.56 5.44l.94 2.06.94-2.06 2.06-.94-2.06-.94-.94-2.06-.94 2.06-2.06.94zm-11 1L8.5 8.5l.94-2.06 2.06-.94-2.06-.94L8.5 2.5l-.94 2.06-2.06.94zm10 10l.94 2.06.94-2.06 2.06-.94-2.06-.94-.94-2.06-.94 2.06-2.06.94z\"/><path d=\"M17.41 7.96l-1.37-1.37c-.4-.4-.92-.59-1.43-.59-.52 0-1.04.2-1.43.59L10.3 9.45l-7.72 7.72c-.78.78-.78 2.05 0 2.83L4 21.41c.39.39.9.59 1.41.59.51 0 1.02-.2 1.41-.59l7.78-7.78 2.81-2.81c.8-.78.8-2.07 0-2.86zM5.41 20L4 18.59l7.72-7.72 1.47 1.35L5.41 20z\"/>\n",
              "  </svg>\n",
              "      </button>\n",
              "      \n",
              "  <style>\n",
              "    .colab-df-container {\n",
              "      display:flex;\n",
              "      flex-wrap:wrap;\n",
              "      gap: 12px;\n",
              "    }\n",
              "\n",
              "    .colab-df-convert {\n",
              "      background-color: #E8F0FE;\n",
              "      border: none;\n",
              "      border-radius: 50%;\n",
              "      cursor: pointer;\n",
              "      display: none;\n",
              "      fill: #1967D2;\n",
              "      height: 32px;\n",
              "      padding: 0 0 0 0;\n",
              "      width: 32px;\n",
              "    }\n",
              "\n",
              "    .colab-df-convert:hover {\n",
              "      background-color: #E2EBFA;\n",
              "      box-shadow: 0px 1px 2px rgba(60, 64, 67, 0.3), 0px 1px 3px 1px rgba(60, 64, 67, 0.15);\n",
              "      fill: #174EA6;\n",
              "    }\n",
              "\n",
              "    [theme=dark] .colab-df-convert {\n",
              "      background-color: #3B4455;\n",
              "      fill: #D2E3FC;\n",
              "    }\n",
              "\n",
              "    [theme=dark] .colab-df-convert:hover {\n",
              "      background-color: #434B5C;\n",
              "      box-shadow: 0px 1px 3px 1px rgba(0, 0, 0, 0.15);\n",
              "      filter: drop-shadow(0px 1px 2px rgba(0, 0, 0, 0.3));\n",
              "      fill: #FFFFFF;\n",
              "    }\n",
              "  </style>\n",
              "\n",
              "      <script>\n",
              "        const buttonEl =\n",
              "          document.querySelector('#df-8ed30505-a609-4849-866d-6644e5479a77 button.colab-df-convert');\n",
              "        buttonEl.style.display =\n",
              "          google.colab.kernel.accessAllowed ? 'block' : 'none';\n",
              "\n",
              "        async function convertToInteractive(key) {\n",
              "          const element = document.querySelector('#df-8ed30505-a609-4849-866d-6644e5479a77');\n",
              "          const dataTable =\n",
              "            await google.colab.kernel.invokeFunction('convertToInteractive',\n",
              "                                                     [key], {});\n",
              "          if (!dataTable) return;\n",
              "\n",
              "          const docLinkHtml = 'Like what you see? Visit the ' +\n",
              "            '<a target=\"_blank\" href=https://colab.research.google.com/notebooks/data_table.ipynb>data table notebook</a>'\n",
              "            + ' to learn more about interactive tables.';\n",
              "          element.innerHTML = '';\n",
              "          dataTable['output_type'] = 'display_data';\n",
              "          await google.colab.output.renderOutput(dataTable, element);\n",
              "          const docLink = document.createElement('div');\n",
              "          docLink.innerHTML = docLinkHtml;\n",
              "          element.appendChild(docLink);\n",
              "        }\n",
              "      </script>\n",
              "    </div>\n",
              "  </div>\n",
              "  "
            ]
          },
          "metadata": {},
          "execution_count": 29
        }
      ]
    },
    {
      "cell_type": "code",
      "source": [
        "merged_df.shape"
      ],
      "metadata": {
        "colab": {
          "base_uri": "https://localhost:8080/"
        },
        "id": "aV734thQVhxp",
        "outputId": "62cd1096-6bed-4541-e071-bc673b3aa311"
      },
      "execution_count": 30,
      "outputs": [
        {
          "output_type": "execute_result",
          "data": {
            "text/plain": [
              "(110720, 2)"
            ]
          },
          "metadata": {},
          "execution_count": 30
        }
      ]
    },
    {
      "cell_type": "code",
      "source": [
        "# Montar el drive\n",
        "drive.mount('/content/drive')\n",
        "\n",
        "# Guardar el dataset en un archivo CSV en tu drive\n",
        "merged_df.to_csv('/content/drive/My Drive/english_dataset.csv', index=True)"
      ],
      "metadata": {
        "colab": {
          "base_uri": "https://localhost:8080/"
        },
        "id": "Jb0Amg2JVqwu",
        "outputId": "02ae5d74-de72-4769-e3a5-701566f30f38"
      },
      "execution_count": 31,
      "outputs": [
        {
          "output_type": "stream",
          "name": "stdout",
          "text": [
            "Mounted at /content/drive\n"
          ]
        }
      ]
    }
  ]
}