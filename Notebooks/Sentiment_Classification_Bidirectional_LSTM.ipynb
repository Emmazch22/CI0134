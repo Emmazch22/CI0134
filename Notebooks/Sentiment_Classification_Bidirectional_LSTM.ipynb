{
  "nbformat": 4,
  "nbformat_minor": 0,
  "metadata": {
    "colab": {
      "provenance": []
    },
    "kernelspec": {
      "name": "python3",
      "display_name": "Python 3"
    },
    "language_info": {
      "name": "python"
    },
    "accelerator": "GPU",
    "gpuClass": "standard"
  },
  "cells": [
    {
      "cell_type": "markdown",
      "source": [
        "# Clasificación de Sentimientos Utilizando LSTM Bidireccional"
      ],
      "metadata": {
        "id": "ofg2U8MIprMx"
      }
    },
    {
      "cell_type": "markdown",
      "source": [
        "Realizado por:\n",
        "- Paula Monge\n",
        "- Emmanuel Zúñiga\n",
        "\n",
        "Trabajo de Invetigación del Curso:\n",
        "- Investigación en Ciencias de la Computación\n",
        "\n",
        "Tema de Investigación:\n",
        "- Aprendizaje Automático en la clasificación de Sentimientos en Twitter: Comparación de los Algoritmos de LSTM Bidireccional, BERT y Naïve Bayes"
      ],
      "metadata": {
        "id": "d_BWwdeUps8K"
      }
    },
    {
      "cell_type": "markdown",
      "source": [
        "## Importación de librerias 📚"
      ],
      "metadata": {
        "id": "2bnWO1Uepw5G"
      }
    },
    {
      "cell_type": "code",
      "execution_count": null,
      "metadata": {
        "colab": {
          "base_uri": "https://localhost:8080/"
        },
        "id": "DiMDZPG4phqP",
        "outputId": "cc3f6bb4-2d32-48ad-a217-91d6e466b695"
      },
      "outputs": [
        {
          "output_type": "stream",
          "name": "stdout",
          "text": [
            "Looking in indexes: https://pypi.org/simple, https://us-python.pkg.dev/colab-wheels/public/simple/\n",
            "Requirement already satisfied: tensorflow in /usr/local/lib/python3.9/dist-packages (2.12.0)\n",
            "Requirement already satisfied: protobuf!=4.21.0,!=4.21.1,!=4.21.2,!=4.21.3,!=4.21.4,!=4.21.5,<5.0.0dev,>=3.20.3 in /usr/local/lib/python3.9/dist-packages (from tensorflow) (3.20.3)\n",
            "Requirement already satisfied: flatbuffers>=2.0 in /usr/local/lib/python3.9/dist-packages (from tensorflow) (23.3.3)\n",
            "Requirement already satisfied: h5py>=2.9.0 in /usr/local/lib/python3.9/dist-packages (from tensorflow) (3.8.0)\n",
            "Requirement already satisfied: google-pasta>=0.1.1 in /usr/local/lib/python3.9/dist-packages (from tensorflow) (0.2.0)\n",
            "Requirement already satisfied: setuptools in /usr/local/lib/python3.9/dist-packages (from tensorflow) (67.7.2)\n",
            "Requirement already satisfied: six>=1.12.0 in /usr/local/lib/python3.9/dist-packages (from tensorflow) (1.16.0)\n",
            "Requirement already satisfied: absl-py>=1.0.0 in /usr/local/lib/python3.9/dist-packages (from tensorflow) (1.4.0)\n",
            "Requirement already satisfied: gast<=0.4.0,>=0.2.1 in /usr/local/lib/python3.9/dist-packages (from tensorflow) (0.4.0)\n",
            "Requirement already satisfied: packaging in /usr/local/lib/python3.9/dist-packages (from tensorflow) (23.1)\n",
            "Requirement already satisfied: tensorboard<2.13,>=2.12 in /usr/local/lib/python3.9/dist-packages (from tensorflow) (2.12.2)\n",
            "Requirement already satisfied: jax>=0.3.15 in /usr/local/lib/python3.9/dist-packages (from tensorflow) (0.4.8)\n",
            "Requirement already satisfied: astunparse>=1.6.0 in /usr/local/lib/python3.9/dist-packages (from tensorflow) (1.6.3)\n",
            "Requirement already satisfied: keras<2.13,>=2.12.0 in /usr/local/lib/python3.9/dist-packages (from tensorflow) (2.12.0)\n",
            "Requirement already satisfied: libclang>=13.0.0 in /usr/local/lib/python3.9/dist-packages (from tensorflow) (16.0.0)\n",
            "Requirement already satisfied: wrapt<1.15,>=1.11.0 in /usr/local/lib/python3.9/dist-packages (from tensorflow) (1.14.1)\n",
            "Requirement already satisfied: termcolor>=1.1.0 in /usr/local/lib/python3.9/dist-packages (from tensorflow) (2.2.0)\n",
            "Requirement already satisfied: opt-einsum>=2.3.2 in /usr/local/lib/python3.9/dist-packages (from tensorflow) (3.3.0)\n",
            "Requirement already satisfied: grpcio<2.0,>=1.24.3 in /usr/local/lib/python3.9/dist-packages (from tensorflow) (1.53.0)\n",
            "Requirement already satisfied: tensorflow-estimator<2.13,>=2.12.0 in /usr/local/lib/python3.9/dist-packages (from tensorflow) (2.12.0)\n",
            "Requirement already satisfied: tensorflow-io-gcs-filesystem>=0.23.1 in /usr/local/lib/python3.9/dist-packages (from tensorflow) (0.32.0)\n",
            "Requirement already satisfied: typing-extensions>=3.6.6 in /usr/local/lib/python3.9/dist-packages (from tensorflow) (4.5.0)\n",
            "Requirement already satisfied: numpy<1.24,>=1.22 in /usr/local/lib/python3.9/dist-packages (from tensorflow) (1.22.4)\n",
            "Requirement already satisfied: wheel<1.0,>=0.23.0 in /usr/local/lib/python3.9/dist-packages (from astunparse>=1.6.0->tensorflow) (0.40.0)\n",
            "Requirement already satisfied: ml-dtypes>=0.0.3 in /usr/local/lib/python3.9/dist-packages (from jax>=0.3.15->tensorflow) (0.1.0)\n",
            "Requirement already satisfied: scipy>=1.7 in /usr/local/lib/python3.9/dist-packages (from jax>=0.3.15->tensorflow) (1.10.1)\n",
            "Requirement already satisfied: google-auth<3,>=1.6.3 in /usr/local/lib/python3.9/dist-packages (from tensorboard<2.13,>=2.12->tensorflow) (2.17.3)\n",
            "Requirement already satisfied: google-auth-oauthlib<1.1,>=0.5 in /usr/local/lib/python3.9/dist-packages (from tensorboard<2.13,>=2.12->tensorflow) (1.0.0)\n",
            "Requirement already satisfied: requests<3,>=2.21.0 in /usr/local/lib/python3.9/dist-packages (from tensorboard<2.13,>=2.12->tensorflow) (2.27.1)\n",
            "Requirement already satisfied: tensorboard-data-server<0.8.0,>=0.7.0 in /usr/local/lib/python3.9/dist-packages (from tensorboard<2.13,>=2.12->tensorflow) (0.7.0)\n",
            "Requirement already satisfied: werkzeug>=1.0.1 in /usr/local/lib/python3.9/dist-packages (from tensorboard<2.13,>=2.12->tensorflow) (2.2.3)\n",
            "Requirement already satisfied: markdown>=2.6.8 in /usr/local/lib/python3.9/dist-packages (from tensorboard<2.13,>=2.12->tensorflow) (3.4.3)\n",
            "Requirement already satisfied: tensorboard-plugin-wit>=1.6.0 in /usr/local/lib/python3.9/dist-packages (from tensorboard<2.13,>=2.12->tensorflow) (1.8.1)\n",
            "Requirement already satisfied: rsa<5,>=3.1.4 in /usr/local/lib/python3.9/dist-packages (from google-auth<3,>=1.6.3->tensorboard<2.13,>=2.12->tensorflow) (4.9)\n",
            "Requirement already satisfied: cachetools<6.0,>=2.0.0 in /usr/local/lib/python3.9/dist-packages (from google-auth<3,>=1.6.3->tensorboard<2.13,>=2.12->tensorflow) (5.3.0)\n",
            "Requirement already satisfied: pyasn1-modules>=0.2.1 in /usr/local/lib/python3.9/dist-packages (from google-auth<3,>=1.6.3->tensorboard<2.13,>=2.12->tensorflow) (0.2.8)\n",
            "Requirement already satisfied: requests-oauthlib>=0.7.0 in /usr/local/lib/python3.9/dist-packages (from google-auth-oauthlib<1.1,>=0.5->tensorboard<2.13,>=2.12->tensorflow) (1.3.1)\n",
            "Requirement already satisfied: importlib-metadata>=4.4 in /usr/local/lib/python3.9/dist-packages (from markdown>=2.6.8->tensorboard<2.13,>=2.12->tensorflow) (6.4.1)\n",
            "Requirement already satisfied: idna<4,>=2.5 in /usr/local/lib/python3.9/dist-packages (from requests<3,>=2.21.0->tensorboard<2.13,>=2.12->tensorflow) (3.4)\n",
            "Requirement already satisfied: certifi>=2017.4.17 in /usr/local/lib/python3.9/dist-packages (from requests<3,>=2.21.0->tensorboard<2.13,>=2.12->tensorflow) (2022.12.7)\n",
            "Requirement already satisfied: urllib3<1.27,>=1.21.1 in /usr/local/lib/python3.9/dist-packages (from requests<3,>=2.21.0->tensorboard<2.13,>=2.12->tensorflow) (1.26.15)\n",
            "Requirement already satisfied: charset-normalizer~=2.0.0 in /usr/local/lib/python3.9/dist-packages (from requests<3,>=2.21.0->tensorboard<2.13,>=2.12->tensorflow) (2.0.12)\n",
            "Requirement already satisfied: MarkupSafe>=2.1.1 in /usr/local/lib/python3.9/dist-packages (from werkzeug>=1.0.1->tensorboard<2.13,>=2.12->tensorflow) (2.1.2)\n",
            "Requirement already satisfied: zipp>=0.5 in /usr/local/lib/python3.9/dist-packages (from importlib-metadata>=4.4->markdown>=2.6.8->tensorboard<2.13,>=2.12->tensorflow) (3.15.0)\n",
            "Requirement already satisfied: pyasn1<0.5.0,>=0.4.6 in /usr/local/lib/python3.9/dist-packages (from pyasn1-modules>=0.2.1->google-auth<3,>=1.6.3->tensorboard<2.13,>=2.12->tensorflow) (0.4.8)\n",
            "Requirement already satisfied: oauthlib>=3.0.0 in /usr/local/lib/python3.9/dist-packages (from requests-oauthlib>=0.7.0->google-auth-oauthlib<1.1,>=0.5->tensorboard<2.13,>=2.12->tensorflow) (3.2.2)\n",
            "Looking in indexes: https://pypi.org/simple, https://us-python.pkg.dev/colab-wheels/public/simple/\n",
            "Requirement already satisfied: keras in /usr/local/lib/python3.9/dist-packages (2.12.0)\n"
          ]
        }
      ],
      "source": [
        "\n",
        "!pip install tensorflow\n",
        "!pip install keras"
      ]
    },
    {
      "cell_type": "code",
      "source": [
        "import tensorflow as tf\n",
        "from tensorflow import keras\n",
        "from tensorflow.keras import layers\n",
        "from tensorflow.keras.preprocessing.text import Tokenizer\n",
        "import tensorflow.keras.utils as ku\n",
        "import pandas as pd\n",
        "import numpy as np\n",
        "import matplotlib.pyplot as plt\n",
        "from matplotlib import style\n",
        "from google.colab import drive\n",
        "from sklearn.preprocessing import LabelEncoder"
      ],
      "metadata": {
        "id": "jFhFf5EFp2vM"
      },
      "execution_count": null,
      "outputs": []
    },
    {
      "cell_type": "markdown",
      "source": [
        "## Carga del dataset 📅"
      ],
      "metadata": {
        "id": "rJBhrU8urlFm"
      }
    },
    {
      "cell_type": "code",
      "source": [
        "\n",
        "# El dataset en cuestión contiene datos sobre tweets en diferentes idiomas, pero nos interesa utilizar solo\n",
        "# los que se encuentran en español.\n",
        "tweets = pd.read_csv('https://raw.githubusercontent.com/Emmazch22/Paula_y_Emmanuel_CI0134/main/Datasets/new_dataset_balanced.csv')"
      ],
      "metadata": {
        "id": "Jov1_LP7rrts"
      },
      "execution_count": null,
      "outputs": []
    },
    {
      "cell_type": "code",
      "source": [
        "tweets.head(10)"
      ],
      "metadata": {
        "colab": {
          "base_uri": "https://localhost:8080/",
          "height": 363
        },
        "id": "AlFLk751rslP",
        "outputId": "a6103d19-e9f7-43aa-ab3f-4576d22b757f"
      },
      "execution_count": null,
      "outputs": [
        {
          "output_type": "execute_result",
          "data": {
            "text/plain": [
              "   Unnamed: 0                                               Text  Label\n",
              "0       36205                                     es lo menos         0\n",
              "1      105993   jaja me acoste a eso de las 3 de la manana o ...      0\n",
              "2       77438                       manana ire solari no mas          0\n",
              "3       93306                    tomate un acetaminofen amor          0\n",
              "4       83950                                         lo siento       0\n",
              "5       61508              o sea  iba a quedar feo como mujer         0\n",
              "6       59726           ademas de tener insomnio tengo hambre         0\n",
              "7       39053            a mi me salio una en ese mismo lugar         0\n",
              "8       49669  que alguien me hablee     lt 3  lt 3 me aburro...      0\n",
              "9       83894                                ni me daras nada         0"
            ],
            "text/html": [
              "\n",
              "  <div id=\"df-9775d9a5-82aa-4df6-ba0f-ff5f482a1c17\">\n",
              "    <div class=\"colab-df-container\">\n",
              "      <div>\n",
              "<style scoped>\n",
              "    .dataframe tbody tr th:only-of-type {\n",
              "        vertical-align: middle;\n",
              "    }\n",
              "\n",
              "    .dataframe tbody tr th {\n",
              "        vertical-align: top;\n",
              "    }\n",
              "\n",
              "    .dataframe thead th {\n",
              "        text-align: right;\n",
              "    }\n",
              "</style>\n",
              "<table border=\"1\" class=\"dataframe\">\n",
              "  <thead>\n",
              "    <tr style=\"text-align: right;\">\n",
              "      <th></th>\n",
              "      <th>Unnamed: 0</th>\n",
              "      <th>Text</th>\n",
              "      <th>Label</th>\n",
              "    </tr>\n",
              "  </thead>\n",
              "  <tbody>\n",
              "    <tr>\n",
              "      <th>0</th>\n",
              "      <td>36205</td>\n",
              "      <td>es lo menos</td>\n",
              "      <td>0</td>\n",
              "    </tr>\n",
              "    <tr>\n",
              "      <th>1</th>\n",
              "      <td>105993</td>\n",
              "      <td>jaja me acoste a eso de las 3 de la manana o ...</td>\n",
              "      <td>0</td>\n",
              "    </tr>\n",
              "    <tr>\n",
              "      <th>2</th>\n",
              "      <td>77438</td>\n",
              "      <td>manana ire solari no mas</td>\n",
              "      <td>0</td>\n",
              "    </tr>\n",
              "    <tr>\n",
              "      <th>3</th>\n",
              "      <td>93306</td>\n",
              "      <td>tomate un acetaminofen amor</td>\n",
              "      <td>0</td>\n",
              "    </tr>\n",
              "    <tr>\n",
              "      <th>4</th>\n",
              "      <td>83950</td>\n",
              "      <td>lo siento</td>\n",
              "      <td>0</td>\n",
              "    </tr>\n",
              "    <tr>\n",
              "      <th>5</th>\n",
              "      <td>61508</td>\n",
              "      <td>o sea  iba a quedar feo como mujer</td>\n",
              "      <td>0</td>\n",
              "    </tr>\n",
              "    <tr>\n",
              "      <th>6</th>\n",
              "      <td>59726</td>\n",
              "      <td>ademas de tener insomnio tengo hambre</td>\n",
              "      <td>0</td>\n",
              "    </tr>\n",
              "    <tr>\n",
              "      <th>7</th>\n",
              "      <td>39053</td>\n",
              "      <td>a mi me salio una en ese mismo lugar</td>\n",
              "      <td>0</td>\n",
              "    </tr>\n",
              "    <tr>\n",
              "      <th>8</th>\n",
              "      <td>49669</td>\n",
              "      <td>que alguien me hablee     lt 3  lt 3 me aburro...</td>\n",
              "      <td>0</td>\n",
              "    </tr>\n",
              "    <tr>\n",
              "      <th>9</th>\n",
              "      <td>83894</td>\n",
              "      <td>ni me daras nada</td>\n",
              "      <td>0</td>\n",
              "    </tr>\n",
              "  </tbody>\n",
              "</table>\n",
              "</div>\n",
              "      <button class=\"colab-df-convert\" onclick=\"convertToInteractive('df-9775d9a5-82aa-4df6-ba0f-ff5f482a1c17')\"\n",
              "              title=\"Convert this dataframe to an interactive table.\"\n",
              "              style=\"display:none;\">\n",
              "        \n",
              "  <svg xmlns=\"http://www.w3.org/2000/svg\" height=\"24px\"viewBox=\"0 0 24 24\"\n",
              "       width=\"24px\">\n",
              "    <path d=\"M0 0h24v24H0V0z\" fill=\"none\"/>\n",
              "    <path d=\"M18.56 5.44l.94 2.06.94-2.06 2.06-.94-2.06-.94-.94-2.06-.94 2.06-2.06.94zm-11 1L8.5 8.5l.94-2.06 2.06-.94-2.06-.94L8.5 2.5l-.94 2.06-2.06.94zm10 10l.94 2.06.94-2.06 2.06-.94-2.06-.94-.94-2.06-.94 2.06-2.06.94z\"/><path d=\"M17.41 7.96l-1.37-1.37c-.4-.4-.92-.59-1.43-.59-.52 0-1.04.2-1.43.59L10.3 9.45l-7.72 7.72c-.78.78-.78 2.05 0 2.83L4 21.41c.39.39.9.59 1.41.59.51 0 1.02-.2 1.41-.59l7.78-7.78 2.81-2.81c.8-.78.8-2.07 0-2.86zM5.41 20L4 18.59l7.72-7.72 1.47 1.35L5.41 20z\"/>\n",
              "  </svg>\n",
              "      </button>\n",
              "      \n",
              "  <style>\n",
              "    .colab-df-container {\n",
              "      display:flex;\n",
              "      flex-wrap:wrap;\n",
              "      gap: 12px;\n",
              "    }\n",
              "\n",
              "    .colab-df-convert {\n",
              "      background-color: #E8F0FE;\n",
              "      border: none;\n",
              "      border-radius: 50%;\n",
              "      cursor: pointer;\n",
              "      display: none;\n",
              "      fill: #1967D2;\n",
              "      height: 32px;\n",
              "      padding: 0 0 0 0;\n",
              "      width: 32px;\n",
              "    }\n",
              "\n",
              "    .colab-df-convert:hover {\n",
              "      background-color: #E2EBFA;\n",
              "      box-shadow: 0px 1px 2px rgba(60, 64, 67, 0.3), 0px 1px 3px 1px rgba(60, 64, 67, 0.15);\n",
              "      fill: #174EA6;\n",
              "    }\n",
              "\n",
              "    [theme=dark] .colab-df-convert {\n",
              "      background-color: #3B4455;\n",
              "      fill: #D2E3FC;\n",
              "    }\n",
              "\n",
              "    [theme=dark] .colab-df-convert:hover {\n",
              "      background-color: #434B5C;\n",
              "      box-shadow: 0px 1px 3px 1px rgba(0, 0, 0, 0.15);\n",
              "      filter: drop-shadow(0px 1px 2px rgba(0, 0, 0, 0.3));\n",
              "      fill: #FFFFFF;\n",
              "    }\n",
              "  </style>\n",
              "\n",
              "      <script>\n",
              "        const buttonEl =\n",
              "          document.querySelector('#df-9775d9a5-82aa-4df6-ba0f-ff5f482a1c17 button.colab-df-convert');\n",
              "        buttonEl.style.display =\n",
              "          google.colab.kernel.accessAllowed ? 'block' : 'none';\n",
              "\n",
              "        async function convertToInteractive(key) {\n",
              "          const element = document.querySelector('#df-9775d9a5-82aa-4df6-ba0f-ff5f482a1c17');\n",
              "          const dataTable =\n",
              "            await google.colab.kernel.invokeFunction('convertToInteractive',\n",
              "                                                     [key], {});\n",
              "          if (!dataTable) return;\n",
              "\n",
              "          const docLinkHtml = 'Like what you see? Visit the ' +\n",
              "            '<a target=\"_blank\" href=https://colab.research.google.com/notebooks/data_table.ipynb>data table notebook</a>'\n",
              "            + ' to learn more about interactive tables.';\n",
              "          element.innerHTML = '';\n",
              "          dataTable['output_type'] = 'display_data';\n",
              "          await google.colab.output.renderOutput(dataTable, element);\n",
              "          const docLink = document.createElement('div');\n",
              "          docLink.innerHTML = docLinkHtml;\n",
              "          element.appendChild(docLink);\n",
              "        }\n",
              "      </script>\n",
              "    </div>\n",
              "  </div>\n",
              "  "
            ]
          },
          "metadata": {},
          "execution_count": 4
        }
      ]
    },
    {
      "cell_type": "code",
      "source": [
        "tweets.shape"
      ],
      "metadata": {
        "colab": {
          "base_uri": "https://localhost:8080/"
        },
        "id": "ZkernTkV4bmD",
        "outputId": "e43cf1d9-90ae-4da9-adc4-971edc946c05"
      },
      "execution_count": null,
      "outputs": [
        {
          "output_type": "execute_result",
          "data": {
            "text/plain": [
              "(110720, 3)"
            ]
          },
          "metadata": {},
          "execution_count": 5
        }
      ]
    },
    {
      "cell_type": "code",
      "source": [
        "tweets.shape"
      ],
      "metadata": {
        "colab": {
          "base_uri": "https://localhost:8080/"
        },
        "id": "LsRDXWvD4w5c",
        "outputId": "6dfb5c20-e8d0-4791-f530-0963b87de7b6"
      },
      "execution_count": null,
      "outputs": [
        {
          "output_type": "execute_result",
          "data": {
            "text/plain": [
              "(110720, 3)"
            ]
          },
          "metadata": {},
          "execution_count": 6
        }
      ]
    },
    {
      "cell_type": "code",
      "source": [
        "tweets = tweets.dropna()\n",
        "print(tweets.shape)"
      ],
      "metadata": {
        "colab": {
          "base_uri": "https://localhost:8080/"
        },
        "id": "g-erXdLblFPs",
        "outputId": "873cda47-15e4-44e8-b29d-2a63db4d0deb"
      },
      "execution_count": null,
      "outputs": [
        {
          "output_type": "stream",
          "name": "stdout",
          "text": [
            "(110716, 3)\n"
          ]
        }
      ]
    },
    {
      "cell_type": "markdown",
      "source": [
        "## Creación de sets de entrenamiento y prueba 📅"
      ],
      "metadata": {
        "id": "Djv-vXDTsxf9"
      }
    },
    {
      "cell_type": "markdown",
      "source": [
        "Para los datos de entrenamiento y prueba se utiliza una proporción de 80/20 con respecto al dataset original."
      ],
      "metadata": {
        "id": "iy75jxM4tc9c"
      }
    },
    {
      "cell_type": "code",
      "source": [
        "train_pct = 0.8\n",
        "train_size = round(len(tweets) * train_pct)\n",
        "\n",
        "train_data = tweets.iloc[:train_size]\n",
        "test_data = tweets.iloc[train_size:]\n",
        "\n",
        "test_data = test_data.drop('Label', axis=1)"
      ],
      "metadata": {
        "id": "KB4qks-jtErI"
      },
      "execution_count": null,
      "outputs": []
    },
    {
      "cell_type": "code",
      "source": [
        "train_data.head(10)"
      ],
      "metadata": {
        "colab": {
          "base_uri": "https://localhost:8080/",
          "height": 363
        },
        "id": "hZg1RuaUtGFj",
        "outputId": "45e6edcd-ca0b-46ad-949a-7cc26ca6f32e"
      },
      "execution_count": null,
      "outputs": [
        {
          "output_type": "execute_result",
          "data": {
            "text/plain": [
              "   Unnamed: 0                                               Text  Label\n",
              "0       36205                                     es lo menos         0\n",
              "1      105993   jaja me acoste a eso de las 3 de la manana o ...      0\n",
              "2       77438                       manana ire solari no mas          0\n",
              "3       93306                    tomate un acetaminofen amor          0\n",
              "4       83950                                         lo siento       0\n",
              "5       61508              o sea  iba a quedar feo como mujer         0\n",
              "6       59726           ademas de tener insomnio tengo hambre         0\n",
              "7       39053            a mi me salio una en ese mismo lugar         0\n",
              "8       49669  que alguien me hablee     lt 3  lt 3 me aburro...      0\n",
              "9       83894                                ni me daras nada         0"
            ],
            "text/html": [
              "\n",
              "  <div id=\"df-e7f23dfe-c346-4ef7-8088-21b9bf6f068d\">\n",
              "    <div class=\"colab-df-container\">\n",
              "      <div>\n",
              "<style scoped>\n",
              "    .dataframe tbody tr th:only-of-type {\n",
              "        vertical-align: middle;\n",
              "    }\n",
              "\n",
              "    .dataframe tbody tr th {\n",
              "        vertical-align: top;\n",
              "    }\n",
              "\n",
              "    .dataframe thead th {\n",
              "        text-align: right;\n",
              "    }\n",
              "</style>\n",
              "<table border=\"1\" class=\"dataframe\">\n",
              "  <thead>\n",
              "    <tr style=\"text-align: right;\">\n",
              "      <th></th>\n",
              "      <th>Unnamed: 0</th>\n",
              "      <th>Text</th>\n",
              "      <th>Label</th>\n",
              "    </tr>\n",
              "  </thead>\n",
              "  <tbody>\n",
              "    <tr>\n",
              "      <th>0</th>\n",
              "      <td>36205</td>\n",
              "      <td>es lo menos</td>\n",
              "      <td>0</td>\n",
              "    </tr>\n",
              "    <tr>\n",
              "      <th>1</th>\n",
              "      <td>105993</td>\n",
              "      <td>jaja me acoste a eso de las 3 de la manana o ...</td>\n",
              "      <td>0</td>\n",
              "    </tr>\n",
              "    <tr>\n",
              "      <th>2</th>\n",
              "      <td>77438</td>\n",
              "      <td>manana ire solari no mas</td>\n",
              "      <td>0</td>\n",
              "    </tr>\n",
              "    <tr>\n",
              "      <th>3</th>\n",
              "      <td>93306</td>\n",
              "      <td>tomate un acetaminofen amor</td>\n",
              "      <td>0</td>\n",
              "    </tr>\n",
              "    <tr>\n",
              "      <th>4</th>\n",
              "      <td>83950</td>\n",
              "      <td>lo siento</td>\n",
              "      <td>0</td>\n",
              "    </tr>\n",
              "    <tr>\n",
              "      <th>5</th>\n",
              "      <td>61508</td>\n",
              "      <td>o sea  iba a quedar feo como mujer</td>\n",
              "      <td>0</td>\n",
              "    </tr>\n",
              "    <tr>\n",
              "      <th>6</th>\n",
              "      <td>59726</td>\n",
              "      <td>ademas de tener insomnio tengo hambre</td>\n",
              "      <td>0</td>\n",
              "    </tr>\n",
              "    <tr>\n",
              "      <th>7</th>\n",
              "      <td>39053</td>\n",
              "      <td>a mi me salio una en ese mismo lugar</td>\n",
              "      <td>0</td>\n",
              "    </tr>\n",
              "    <tr>\n",
              "      <th>8</th>\n",
              "      <td>49669</td>\n",
              "      <td>que alguien me hablee     lt 3  lt 3 me aburro...</td>\n",
              "      <td>0</td>\n",
              "    </tr>\n",
              "    <tr>\n",
              "      <th>9</th>\n",
              "      <td>83894</td>\n",
              "      <td>ni me daras nada</td>\n",
              "      <td>0</td>\n",
              "    </tr>\n",
              "  </tbody>\n",
              "</table>\n",
              "</div>\n",
              "      <button class=\"colab-df-convert\" onclick=\"convertToInteractive('df-e7f23dfe-c346-4ef7-8088-21b9bf6f068d')\"\n",
              "              title=\"Convert this dataframe to an interactive table.\"\n",
              "              style=\"display:none;\">\n",
              "        \n",
              "  <svg xmlns=\"http://www.w3.org/2000/svg\" height=\"24px\"viewBox=\"0 0 24 24\"\n",
              "       width=\"24px\">\n",
              "    <path d=\"M0 0h24v24H0V0z\" fill=\"none\"/>\n",
              "    <path d=\"M18.56 5.44l.94 2.06.94-2.06 2.06-.94-2.06-.94-.94-2.06-.94 2.06-2.06.94zm-11 1L8.5 8.5l.94-2.06 2.06-.94-2.06-.94L8.5 2.5l-.94 2.06-2.06.94zm10 10l.94 2.06.94-2.06 2.06-.94-2.06-.94-.94-2.06-.94 2.06-2.06.94z\"/><path d=\"M17.41 7.96l-1.37-1.37c-.4-.4-.92-.59-1.43-.59-.52 0-1.04.2-1.43.59L10.3 9.45l-7.72 7.72c-.78.78-.78 2.05 0 2.83L4 21.41c.39.39.9.59 1.41.59.51 0 1.02-.2 1.41-.59l7.78-7.78 2.81-2.81c.8-.78.8-2.07 0-2.86zM5.41 20L4 18.59l7.72-7.72 1.47 1.35L5.41 20z\"/>\n",
              "  </svg>\n",
              "      </button>\n",
              "      \n",
              "  <style>\n",
              "    .colab-df-container {\n",
              "      display:flex;\n",
              "      flex-wrap:wrap;\n",
              "      gap: 12px;\n",
              "    }\n",
              "\n",
              "    .colab-df-convert {\n",
              "      background-color: #E8F0FE;\n",
              "      border: none;\n",
              "      border-radius: 50%;\n",
              "      cursor: pointer;\n",
              "      display: none;\n",
              "      fill: #1967D2;\n",
              "      height: 32px;\n",
              "      padding: 0 0 0 0;\n",
              "      width: 32px;\n",
              "    }\n",
              "\n",
              "    .colab-df-convert:hover {\n",
              "      background-color: #E2EBFA;\n",
              "      box-shadow: 0px 1px 2px rgba(60, 64, 67, 0.3), 0px 1px 3px 1px rgba(60, 64, 67, 0.15);\n",
              "      fill: #174EA6;\n",
              "    }\n",
              "\n",
              "    [theme=dark] .colab-df-convert {\n",
              "      background-color: #3B4455;\n",
              "      fill: #D2E3FC;\n",
              "    }\n",
              "\n",
              "    [theme=dark] .colab-df-convert:hover {\n",
              "      background-color: #434B5C;\n",
              "      box-shadow: 0px 1px 3px 1px rgba(0, 0, 0, 0.15);\n",
              "      filter: drop-shadow(0px 1px 2px rgba(0, 0, 0, 0.3));\n",
              "      fill: #FFFFFF;\n",
              "    }\n",
              "  </style>\n",
              "\n",
              "      <script>\n",
              "        const buttonEl =\n",
              "          document.querySelector('#df-e7f23dfe-c346-4ef7-8088-21b9bf6f068d button.colab-df-convert');\n",
              "        buttonEl.style.display =\n",
              "          google.colab.kernel.accessAllowed ? 'block' : 'none';\n",
              "\n",
              "        async function convertToInteractive(key) {\n",
              "          const element = document.querySelector('#df-e7f23dfe-c346-4ef7-8088-21b9bf6f068d');\n",
              "          const dataTable =\n",
              "            await google.colab.kernel.invokeFunction('convertToInteractive',\n",
              "                                                     [key], {});\n",
              "          if (!dataTable) return;\n",
              "\n",
              "          const docLinkHtml = 'Like what you see? Visit the ' +\n",
              "            '<a target=\"_blank\" href=https://colab.research.google.com/notebooks/data_table.ipynb>data table notebook</a>'\n",
              "            + ' to learn more about interactive tables.';\n",
              "          element.innerHTML = '';\n",
              "          dataTable['output_type'] = 'display_data';\n",
              "          await google.colab.output.renderOutput(dataTable, element);\n",
              "          const docLink = document.createElement('div');\n",
              "          docLink.innerHTML = docLinkHtml;\n",
              "          element.appendChild(docLink);\n",
              "        }\n",
              "      </script>\n",
              "    </div>\n",
              "  </div>\n",
              "  "
            ]
          },
          "metadata": {},
          "execution_count": 9
        }
      ]
    },
    {
      "cell_type": "code",
      "source": [
        "test_data.head(10)"
      ],
      "metadata": {
        "colab": {
          "base_uri": "https://localhost:8080/",
          "height": 363
        },
        "id": "GF7nJKBYtKTE",
        "outputId": "ea88d359-19ab-4d88-daa2-f2ca8e6aad9b"
      },
      "execution_count": null,
      "outputs": [
        {
          "output_type": "execute_result",
          "data": {
            "text/plain": [
              "       Unnamed: 0                                               Text\n",
              "88576        9178                            eliminare esa opcion   \n",
              "88577       37786             ale  feliz domingo  un besazo chica   \n",
              "88578       34967   gracias por seguirme  en breve te devuelvo fo...\n",
              "88579       30608   gracias por seguirme  en breve te devuelvo fo...\n",
              "88580       28578   abri 120 sobres hoy  7000 oro ahorrado   y 50...\n",
              "88581       39433   gracias por seguirme  en breve te devuelvo fo...\n",
              "88582       31732  este bebe y este cachorrito nacieron el mismo ...\n",
              "88583       51120  el vecino se parece a daguito cuando dejaba la...\n",
              "88584        1685                       aun no  tal vez pronto      \n",
              "88585       53786  y el  paquete  poco a poco se va completando  ..."
            ],
            "text/html": [
              "\n",
              "  <div id=\"df-b7da29d1-17b5-4622-9c2d-ef4afb4debf3\">\n",
              "    <div class=\"colab-df-container\">\n",
              "      <div>\n",
              "<style scoped>\n",
              "    .dataframe tbody tr th:only-of-type {\n",
              "        vertical-align: middle;\n",
              "    }\n",
              "\n",
              "    .dataframe tbody tr th {\n",
              "        vertical-align: top;\n",
              "    }\n",
              "\n",
              "    .dataframe thead th {\n",
              "        text-align: right;\n",
              "    }\n",
              "</style>\n",
              "<table border=\"1\" class=\"dataframe\">\n",
              "  <thead>\n",
              "    <tr style=\"text-align: right;\">\n",
              "      <th></th>\n",
              "      <th>Unnamed: 0</th>\n",
              "      <th>Text</th>\n",
              "    </tr>\n",
              "  </thead>\n",
              "  <tbody>\n",
              "    <tr>\n",
              "      <th>88576</th>\n",
              "      <td>9178</td>\n",
              "      <td>eliminare esa opcion</td>\n",
              "    </tr>\n",
              "    <tr>\n",
              "      <th>88577</th>\n",
              "      <td>37786</td>\n",
              "      <td>ale  feliz domingo  un besazo chica</td>\n",
              "    </tr>\n",
              "    <tr>\n",
              "      <th>88578</th>\n",
              "      <td>34967</td>\n",
              "      <td>gracias por seguirme  en breve te devuelvo fo...</td>\n",
              "    </tr>\n",
              "    <tr>\n",
              "      <th>88579</th>\n",
              "      <td>30608</td>\n",
              "      <td>gracias por seguirme  en breve te devuelvo fo...</td>\n",
              "    </tr>\n",
              "    <tr>\n",
              "      <th>88580</th>\n",
              "      <td>28578</td>\n",
              "      <td>abri 120 sobres hoy  7000 oro ahorrado   y 50...</td>\n",
              "    </tr>\n",
              "    <tr>\n",
              "      <th>88581</th>\n",
              "      <td>39433</td>\n",
              "      <td>gracias por seguirme  en breve te devuelvo fo...</td>\n",
              "    </tr>\n",
              "    <tr>\n",
              "      <th>88582</th>\n",
              "      <td>31732</td>\n",
              "      <td>este bebe y este cachorrito nacieron el mismo ...</td>\n",
              "    </tr>\n",
              "    <tr>\n",
              "      <th>88583</th>\n",
              "      <td>51120</td>\n",
              "      <td>el vecino se parece a daguito cuando dejaba la...</td>\n",
              "    </tr>\n",
              "    <tr>\n",
              "      <th>88584</th>\n",
              "      <td>1685</td>\n",
              "      <td>aun no  tal vez pronto</td>\n",
              "    </tr>\n",
              "    <tr>\n",
              "      <th>88585</th>\n",
              "      <td>53786</td>\n",
              "      <td>y el  paquete  poco a poco se va completando  ...</td>\n",
              "    </tr>\n",
              "  </tbody>\n",
              "</table>\n",
              "</div>\n",
              "      <button class=\"colab-df-convert\" onclick=\"convertToInteractive('df-b7da29d1-17b5-4622-9c2d-ef4afb4debf3')\"\n",
              "              title=\"Convert this dataframe to an interactive table.\"\n",
              "              style=\"display:none;\">\n",
              "        \n",
              "  <svg xmlns=\"http://www.w3.org/2000/svg\" height=\"24px\"viewBox=\"0 0 24 24\"\n",
              "       width=\"24px\">\n",
              "    <path d=\"M0 0h24v24H0V0z\" fill=\"none\"/>\n",
              "    <path d=\"M18.56 5.44l.94 2.06.94-2.06 2.06-.94-2.06-.94-.94-2.06-.94 2.06-2.06.94zm-11 1L8.5 8.5l.94-2.06 2.06-.94-2.06-.94L8.5 2.5l-.94 2.06-2.06.94zm10 10l.94 2.06.94-2.06 2.06-.94-2.06-.94-.94-2.06-.94 2.06-2.06.94z\"/><path d=\"M17.41 7.96l-1.37-1.37c-.4-.4-.92-.59-1.43-.59-.52 0-1.04.2-1.43.59L10.3 9.45l-7.72 7.72c-.78.78-.78 2.05 0 2.83L4 21.41c.39.39.9.59 1.41.59.51 0 1.02-.2 1.41-.59l7.78-7.78 2.81-2.81c.8-.78.8-2.07 0-2.86zM5.41 20L4 18.59l7.72-7.72 1.47 1.35L5.41 20z\"/>\n",
              "  </svg>\n",
              "      </button>\n",
              "      \n",
              "  <style>\n",
              "    .colab-df-container {\n",
              "      display:flex;\n",
              "      flex-wrap:wrap;\n",
              "      gap: 12px;\n",
              "    }\n",
              "\n",
              "    .colab-df-convert {\n",
              "      background-color: #E8F0FE;\n",
              "      border: none;\n",
              "      border-radius: 50%;\n",
              "      cursor: pointer;\n",
              "      display: none;\n",
              "      fill: #1967D2;\n",
              "      height: 32px;\n",
              "      padding: 0 0 0 0;\n",
              "      width: 32px;\n",
              "    }\n",
              "\n",
              "    .colab-df-convert:hover {\n",
              "      background-color: #E2EBFA;\n",
              "      box-shadow: 0px 1px 2px rgba(60, 64, 67, 0.3), 0px 1px 3px 1px rgba(60, 64, 67, 0.15);\n",
              "      fill: #174EA6;\n",
              "    }\n",
              "\n",
              "    [theme=dark] .colab-df-convert {\n",
              "      background-color: #3B4455;\n",
              "      fill: #D2E3FC;\n",
              "    }\n",
              "\n",
              "    [theme=dark] .colab-df-convert:hover {\n",
              "      background-color: #434B5C;\n",
              "      box-shadow: 0px 1px 3px 1px rgba(0, 0, 0, 0.15);\n",
              "      filter: drop-shadow(0px 1px 2px rgba(0, 0, 0, 0.3));\n",
              "      fill: #FFFFFF;\n",
              "    }\n",
              "  </style>\n",
              "\n",
              "      <script>\n",
              "        const buttonEl =\n",
              "          document.querySelector('#df-b7da29d1-17b5-4622-9c2d-ef4afb4debf3 button.colab-df-convert');\n",
              "        buttonEl.style.display =\n",
              "          google.colab.kernel.accessAllowed ? 'block' : 'none';\n",
              "\n",
              "        async function convertToInteractive(key) {\n",
              "          const element = document.querySelector('#df-b7da29d1-17b5-4622-9c2d-ef4afb4debf3');\n",
              "          const dataTable =\n",
              "            await google.colab.kernel.invokeFunction('convertToInteractive',\n",
              "                                                     [key], {});\n",
              "          if (!dataTable) return;\n",
              "\n",
              "          const docLinkHtml = 'Like what you see? Visit the ' +\n",
              "            '<a target=\"_blank\" href=https://colab.research.google.com/notebooks/data_table.ipynb>data table notebook</a>'\n",
              "            + ' to learn more about interactive tables.';\n",
              "          element.innerHTML = '';\n",
              "          dataTable['output_type'] = 'display_data';\n",
              "          await google.colab.output.renderOutput(dataTable, element);\n",
              "          const docLink = document.createElement('div');\n",
              "          docLink.innerHTML = docLinkHtml;\n",
              "          element.appendChild(docLink);\n",
              "        }\n",
              "      </script>\n",
              "    </div>\n",
              "  </div>\n",
              "  "
            ]
          },
          "metadata": {},
          "execution_count": 10
        }
      ]
    },
    {
      "cell_type": "markdown",
      "source": [
        "## Construcción del modelo - LSTM Bidireccional 🧠"
      ],
      "metadata": {
        "id": "e8C0WKx2twEM"
      }
    },
    {
      "cell_type": "code",
      "source": [
        "\n",
        "import nltk\n",
        "import seaborn as sns\n",
        "from nltk.corpus import stopwords\n",
        "nltk.download('stopwords')\n",
        "stop_words = set(stopwords.words('spanish'))\n",
        "from sklearn.model_selection import train_test_split\n",
        "from sklearn.feature_extraction.text import TfidfVectorizer\n",
        "from nltk.stem.porter import PorterStemmer\n",
        "from sklearn.metrics import confusion_matrix,accuracy_score, classification_report\n",
        "from sklearn.svm import LinearSVC\n",
        "from sklearn.linear_model import LogisticRegression\n",
        "from tensorflow.keras.layers import Embedding\n",
        "from tensorflow.keras.preprocessing.sequence import pad_sequences\n",
        "from tensorflow.keras.models import Sequential\n",
        "from tensorflow.keras.preprocessing.text import one_hot\n",
        "from tensorflow.keras.layers import LSTM\n",
        "from tensorflow.keras.layers import Dense\n",
        "from tensorflow.keras.layers import Bidirectional\n",
        "from tensorflow.keras.layers import Dropout"
      ],
      "metadata": {
        "colab": {
          "base_uri": "https://localhost:8080/"
        },
        "id": "u3tpolmjt6dg",
        "outputId": "5aac03fa-1f08-4f24-95d0-5b95a5da90f4"
      },
      "execution_count": null,
      "outputs": [
        {
          "output_type": "stream",
          "name": "stderr",
          "text": [
            "[nltk_data] Downloading package stopwords to /root/nltk_data...\n",
            "[nltk_data]   Unzipping corpora/stopwords.zip.\n"
          ]
        }
      ]
    },
    {
      "cell_type": "code",
      "source": [
        "#stemming and removing stop-words\n",
        "stemmer = PorterStemmer()\n",
        "\n",
        "def stem_remove_sw(df, text_col):\n",
        "    corpus = []\n",
        "    reviews = df[text_col].apply(str).str.split()\n",
        "    reviews = reviews.apply(lambda review: [stemmer.stem(word) for word in review if word not in stop_words])\n",
        "    reviews = reviews.apply(lambda review: \" \".join(review))\n",
        "    corpus = reviews.tolist()\n",
        "    return corpus\n",
        "\n",
        "train_corpus = stem_remove_sw(train_data, 'Text')\n",
        "train_corpus[0]"
      ],
      "metadata": {
        "colab": {
          "base_uri": "https://localhost:8080/",
          "height": 35
        },
        "id": "taGau6-huw_L",
        "outputId": "52d4cb5b-ab3f-4c55-a346-f714ad34d8ae"
      },
      "execution_count": null,
      "outputs": [
        {
          "output_type": "execute_result",
          "data": {
            "text/plain": [
              "'meno'"
            ],
            "application/vnd.google.colaboratory.intrinsic+json": {
              "type": "string"
            }
          },
          "metadata": {},
          "execution_count": 12
        }
      ]
    },
    {
      "cell_type": "code",
      "source": [
        "#tfidf vectorizer\n",
        "tfv = TfidfVectorizer()\n",
        "X = tfv.fit_transform(train_corpus).toarray()\n",
        "Y = train_data[\"Label\"]"
      ],
      "metadata": {
        "id": "rD26DQE9xQrz"
      },
      "execution_count": null,
      "outputs": []
    },
    {
      "cell_type": "code",
      "source": [
        "test_size = int(len(X) * 0.2)\n",
        "# Mezcla los datos\n",
        "##X, y = shuffle(X, y, random_state=1)\n",
        "# Divide los datos en conjuntos de entrenamiento y prueba\n",
        "X_test = X[:test_size]\n",
        "X_train = X[test_size:]\n",
        "y_test = Y[:test_size]\n",
        "y_train = Y[test_size:]"
      ],
      "metadata": {
        "id": "RqNrCdXBxaJ6"
      },
      "execution_count": null,
      "outputs": []
    },
    {
      "cell_type": "code",
      "source": [
        "print(len(set(\" \".join(train_corpus).split())))"
      ],
      "metadata": {
        "id": "D1MznJyZxnmu",
        "colab": {
          "base_uri": "https://localhost:8080/"
        },
        "outputId": "516ddb98-d0c7-4859-98ec-ca890c430cba"
      },
      "execution_count": null,
      "outputs": [
        {
          "output_type": "stream",
          "name": "stdout",
          "text": [
            "48591\n"
          ]
        }
      ]
    },
    {
      "cell_type": "code",
      "source": [
        "voc_size = 20000\n",
        "onehot_repr=[one_hot(words,voc_size)for words in train_corpus] \n",
        "onehot_repr[0]"
      ],
      "metadata": {
        "id": "uAA-TPJyx1pB",
        "colab": {
          "base_uri": "https://localhost:8080/"
        },
        "outputId": "e34feb5b-ee43-4d6c-abfc-d4b387146e03"
      },
      "execution_count": null,
      "outputs": [
        {
          "output_type": "execute_result",
          "data": {
            "text/plain": [
              "[15000]"
            ]
          },
          "metadata": {},
          "execution_count": 16
        }
      ]
    },
    {
      "cell_type": "code",
      "source": [
        "# finding length of tweets\n",
        "lens = train_data['Text'].str.len()\n",
        "sns.distplot(lens)"
      ],
      "metadata": {
        "id": "A9FOLEN8ySXk",
        "colab": {
          "base_uri": "https://localhost:8080/",
          "height": 657
        },
        "outputId": "2499d311-8063-4ca5-8f5e-2f5063576b70"
      },
      "execution_count": null,
      "outputs": [
        {
          "output_type": "stream",
          "name": "stderr",
          "text": [
            "<ipython-input-17-2e3f922053d5>:3: UserWarning: \n",
            "\n",
            "`distplot` is a deprecated function and will be removed in seaborn v0.14.0.\n",
            "\n",
            "Please adapt your code to use either `displot` (a figure-level function with\n",
            "similar flexibility) or `histplot` (an axes-level function for histograms).\n",
            "\n",
            "For a guide to updating your code to use the new functions, please see\n",
            "https://gist.github.com/mwaskom/de44147ed2974457ad6372750bbe5751\n",
            "\n",
            "  sns.distplot(lens)\n"
          ]
        },
        {
          "output_type": "execute_result",
          "data": {
            "text/plain": [
              "<Axes: xlabel='Text', ylabel='Density'>"
            ]
          },
          "metadata": {},
          "execution_count": 17
        },
        {
          "output_type": "display_data",
          "data": {
            "text/plain": [
              "<Figure size 640x480 with 1 Axes>"
            ],
            "image/png": "[encoded data removed]"
          },
          "metadata": {}
        }
      ]
    },
    {
      "cell_type": "code",
      "source": [
        "np.median(train_data['Text'].str.len())"
      ],
      "metadata": {
        "id": "kbPgryJuyeGm",
        "colab": {
          "base_uri": "https://localhost:8080/"
        },
        "outputId": "1f3b2652-a3c4-45ab-ecba-d48f17afd944"
      },
      "execution_count": null,
      "outputs": [
        {
          "output_type": "execute_result",
          "data": {
            "text/plain": [
              "48.0"
            ]
          },
          "metadata": {},
          "execution_count": 18
        }
      ]
    },
    {
      "cell_type": "code",
      "source": [
        "sent_length=50\n",
        "embedded_docs=pad_sequences(onehot_repr,padding='pre',maxlen=sent_length)\n",
        "print(embedded_docs[0])"
      ],
      "metadata": {
        "id": "k9-7cRZpx9Yi",
        "colab": {
          "base_uri": "https://localhost:8080/"
        },
        "outputId": "60a0dc2b-45c4-403c-85c7-6e8464df8181"
      },
      "execution_count": null,
      "outputs": [
        {
          "output_type": "stream",
          "name": "stdout",
          "text": [
            "[    0     0     0     0     0     0     0     0     0     0     0     0\n",
            "     0     0     0     0     0     0     0     0     0     0     0     0\n",
            "     0     0     0     0     0     0     0     0     0     0     0     0\n",
            "     0     0     0     0     0     0     0     0     0     0     0     0\n",
            "     0 15000]\n"
          ]
        }
      ]
    },
    {
      "cell_type": "code",
      "source": [
        "## Creating a bidirectional LSTM model\n",
        "embedding_vector_features=40\n",
        "model1=Sequential()\n",
        "model1.add(Embedding(voc_size,embedding_vector_features,input_length=sent_length))\n",
        "model1.add(Bidirectional(LSTM(100)))\n",
        "model1.add(Dropout(0.3))\n",
        "model1.add(Dense(1,activation='sigmoid'))\n",
        "model1.compile(loss='binary_crossentropy',optimizer='adam',metrics=['accuracy'])\n",
        "print(model1.summary())"
      ],
      "metadata": {
        "id": "YJAEMwNvymsj",
        "colab": {
          "base_uri": "https://localhost:8080/"
        },
        "outputId": "9123648f-ce46-4fb2-a474-01626036be8a"
      },
      "execution_count": null,
      "outputs": [
        {
          "output_type": "stream",
          "name": "stdout",
          "text": [
            "Model: \"sequential\"\n",
            "_________________________________________________________________\n",
            " Layer (type)                Output Shape              Param #   \n",
            "=================================================================\n",
            " embedding (Embedding)       (None, 50, 40)            800000    \n",
            "                                                                 \n",
            " bidirectional (Bidirectiona  (None, 200)              112800    \n",
            " l)                                                              \n",
            "                                                                 \n",
            " dropout (Dropout)           (None, 200)               0         \n",
            "                                                                 \n",
            " dense (Dense)               (None, 1)                 201       \n",
            "                                                                 \n",
            "=================================================================\n",
            "Total params: 913,001\n",
            "Trainable params: 913,001\n",
            "Non-trainable params: 0\n",
            "_________________________________________________________________\n",
            "None\n"
          ]
        }
      ]
    },
    {
      "cell_type": "code",
      "source": [
        "X_lstm=np.array(embedded_docs)\n",
        "Y_lstm = Y"
      ],
      "metadata": {
        "id": "pkfU2TS3yq20"
      },
      "execution_count": null,
      "outputs": []
    },
    {
      "cell_type": "code",
      "source": [
        "x_train, x_test, y_train, y_test = train_test_split(X_lstm, Y_lstm, test_size=0.33, random_state=42)"
      ],
      "metadata": {
        "id": "gqXyJKmUysvt"
      },
      "execution_count": null,
      "outputs": []
    },
    {
      "cell_type": "code",
      "source": [
        "model1.fit(x_train,y_train,validation_data=(x_test,y_test),epochs=25,batch_size=64)"
      ],
      "metadata": {
        "id": "K-TDVgLIyx6M",
        "colab": {
          "base_uri": "https://localhost:8080/"
        },
        "outputId": "a3c55826-f0c6-4aa0-b43c-f5f22f8efe47"
      },
      "execution_count": null,
      "outputs": [
        {
          "output_type": "stream",
          "name": "stdout",
          "text": [
            "Epoch 1/25\n",
            "928/928 [==============================] - 60s 54ms/step - loss: 0.5099 - accuracy: 0.7470 - val_loss: 0.4814 - val_accuracy: 0.7675\n",
            "Epoch 2/25\n",
            "928/928 [==============================] - 14s 15ms/step - loss: 0.4273 - accuracy: 0.8035 - val_loss: 0.5208 - val_accuracy: 0.7433\n",
            "Epoch 3/25\n",
            "928/928 [==============================] - 11s 12ms/step - loss: 0.3898 - accuracy: 0.8261 - val_loss: 0.5133 - val_accuracy: 0.7575\n",
            "Epoch 4/25\n",
            "928/928 [==============================] - 11s 12ms/step - loss: 0.3479 - accuracy: 0.8463 - val_loss: 0.5460 - val_accuracy: 0.7510\n",
            "Epoch 5/25\n",
            "928/928 [==============================] - 11s 12ms/step - loss: 0.2957 - accuracy: 0.8698 - val_loss: 0.6407 - val_accuracy: 0.7484\n",
            "Epoch 6/25\n",
            "928/928 [==============================] - 12s 13ms/step - loss: 0.2538 - accuracy: 0.8893 - val_loss: 0.7644 - val_accuracy: 0.7385\n",
            "Epoch 7/25\n",
            "928/928 [==============================] - 10s 11ms/step - loss: 0.2198 - accuracy: 0.9036 - val_loss: 0.8875 - val_accuracy: 0.7329\n",
            "Epoch 8/25\n",
            "928/928 [==============================] - 12s 13ms/step - loss: 0.1948 - accuracy: 0.9137 - val_loss: 0.8943 - val_accuracy: 0.7327\n",
            "Epoch 9/25\n",
            "928/928 [==============================] - 11s 11ms/step - loss: 0.1743 - accuracy: 0.9229 - val_loss: 1.0765 - val_accuracy: 0.7263\n",
            "Epoch 10/25\n",
            "928/928 [==============================] - 9s 10ms/step - loss: 0.1538 - accuracy: 0.9326 - val_loss: 1.2846 - val_accuracy: 0.7222\n",
            "Epoch 11/25\n",
            "928/928 [==============================] - 10s 11ms/step - loss: 0.1401 - accuracy: 0.9401 - val_loss: 1.3038 - val_accuracy: 0.7220\n",
            "Epoch 12/25\n",
            "928/928 [==============================] - 11s 11ms/step - loss: 0.1290 - accuracy: 0.9451 - val_loss: 1.5122 - val_accuracy: 0.7199\n",
            "Epoch 13/25\n",
            "928/928 [==============================] - 11s 12ms/step - loss: 0.1177 - accuracy: 0.9495 - val_loss: 1.5599 - val_accuracy: 0.7202\n",
            "Epoch 14/25\n",
            "928/928 [==============================] - 11s 12ms/step - loss: 0.1089 - accuracy: 0.9529 - val_loss: 1.7710 - val_accuracy: 0.7199\n",
            "Epoch 15/25\n",
            "928/928 [==============================] - 11s 11ms/step - loss: 0.1032 - accuracy: 0.9561 - val_loss: 1.6640 - val_accuracy: 0.7237\n",
            "Epoch 16/25\n",
            "928/928 [==============================] - 10s 11ms/step - loss: 0.0973 - accuracy: 0.9578 - val_loss: 1.8613 - val_accuracy: 0.7166\n",
            "Epoch 17/25\n",
            "928/928 [==============================] - 10s 11ms/step - loss: 0.0912 - accuracy: 0.9611 - val_loss: 1.9247 - val_accuracy: 0.7197\n",
            "Epoch 18/25\n",
            "928/928 [==============================] - 11s 11ms/step - loss: 0.0869 - accuracy: 0.9628 - val_loss: 2.0169 - val_accuracy: 0.7216\n",
            "Epoch 19/25\n",
            "928/928 [==============================] - 10s 11ms/step - loss: 0.0812 - accuracy: 0.9650 - val_loss: 2.0535 - val_accuracy: 0.7211\n",
            "Epoch 20/25\n",
            "928/928 [==============================] - 11s 12ms/step - loss: 0.0781 - accuracy: 0.9666 - val_loss: 2.2377 - val_accuracy: 0.7090\n",
            "Epoch 21/25\n",
            "928/928 [==============================] - 10s 11ms/step - loss: 0.0738 - accuracy: 0.9687 - val_loss: 2.1939 - val_accuracy: 0.7178\n",
            "Epoch 22/25\n",
            "928/928 [==============================] - 10s 11ms/step - loss: 0.0729 - accuracy: 0.9690 - val_loss: 2.1689 - val_accuracy: 0.7164\n",
            "Epoch 23/25\n",
            "928/928 [==============================] - 9s 10ms/step - loss: 0.0700 - accuracy: 0.9707 - val_loss: 2.3213 - val_accuracy: 0.7124\n",
            "Epoch 24/25\n",
            "928/928 [==============================] - 11s 12ms/step - loss: 0.0659 - accuracy: 0.9714 - val_loss: 2.4130 - val_accuracy: 0.7169\n",
            "Epoch 25/25\n",
            "928/928 [==============================] - 10s 11ms/step - loss: 0.0615 - accuracy: 0.9733 - val_loss: 2.5561 - val_accuracy: 0.7167\n"
          ]
        },
        {
          "output_type": "execute_result",
          "data": {
            "text/plain": [
              "<keras.callbacks.History at 0x7fe690645fa0>"
            ]
          },
          "metadata": {},
          "execution_count": 23
        }
      ]
    },
    {
      "cell_type": "code",
      "source": [
        "y_pred_lstm=model1.predict(x_test)\n",
        "y_pred_lstm = np.round(abs(y_pred_lstm))\n",
        "print(\"Accuracy Score: \", accuracy_score(y_test, y_pred_lstm))\n",
        "print(\"Confusion Matrix: \\n\", confusion_matrix(y_test,y_pred_lstm))\n",
        "print(classification_report(y_test,y_pred_lstm))"
      ],
      "metadata": {
        "id": "RcMZUr9d2yl6",
        "colab": {
          "base_uri": "https://localhost:8080/"
        },
        "outputId": "78c76523-2b63-4f8f-95fc-47d69e222b5e"
      },
      "execution_count": null,
      "outputs": [
        {
          "output_type": "stream",
          "name": "stdout",
          "text": [
            "914/914 [==============================] - 4s 3ms/step\n",
            "Accuracy Score:  0.7166609647622306\n",
            "Confusion Matrix: \n",
            " [[14369  3949]\n",
            " [ 4333  6579]]\n",
            "              precision    recall  f1-score   support\n",
            "\n",
            "           0       0.77      0.78      0.78     18318\n",
            "           1       0.62      0.60      0.61     10912\n",
            "\n",
            "    accuracy                           0.72     29230\n",
            "   macro avg       0.70      0.69      0.69     29230\n",
            "weighted avg       0.71      0.72      0.72     29230\n",
            "\n"
          ]
        }
      ]
    }
  ]
}