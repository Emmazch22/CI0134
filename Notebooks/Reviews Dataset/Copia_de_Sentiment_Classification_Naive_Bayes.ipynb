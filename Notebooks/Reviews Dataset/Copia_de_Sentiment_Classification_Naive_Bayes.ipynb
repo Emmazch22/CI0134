{
  "nbformat": 4,
  "nbformat_minor": 0,
  "metadata": {
    "colab": {
      "provenance": [],
      "gpuType": "T4"
    },
    "kernelspec": {
      "name": "python3",
      "display_name": "Python 3"
    },
    "language_info": {
      "name": "python"
    },
    "accelerator": "GPU",
    "gpuClass": "standard"
  },
  "cells": [
    {
      "cell_type": "markdown",
      "source": [
        "# Clasificación de Sentimientos Utilizando Naïve Bayes\n",
        "Realizado por:\n",
        "\n",
        "Paula Monge\n",
        "Emmanuel Zúñiga\n",
        "Trabajo de Invetigación del Curso:\n",
        "\n",
        "Investigación en Ciencias de la Computación\n",
        "Tema de Investigación:\n",
        "\n",
        "Aprendizaje Automático en la clasificación de Sentimientos en Twitter: Comparación de los Algoritmos de LSTM Bidireccional, BERT y Naïve Bayes"
      ],
      "metadata": {
        "id": "EXcmpSAU1iv-"
      }
    },
    {
      "cell_type": "markdown",
      "source": [
        "# Importación de librerias necesarias 📚"
      ],
      "metadata": {
        "id": "H9o_VRoa1vOP"
      }
    },
    {
      "cell_type": "code",
      "execution_count": 1,
      "metadata": {
        "id": "g1Wug26i1c2M"
      },
      "outputs": [],
      "source": [
        "import re\n",
        "import seaborn as sns #for visualization\n",
        "import matplotlib.pyplot as plt #for visualization\n",
        "import numpy as np # linear algebra\n",
        "import pandas as pd # data processing, CSV file I/O (e.g. pd.read_csv)\n",
        "from google.colab import drive"
      ]
    },
    {
      "cell_type": "markdown",
      "source": [
        "## Carga del dataset 📅"
      ],
      "metadata": {
        "id": "iT5cG6C7131s"
      }
    },
    {
      "cell_type": "code",
      "source": [
        "# Se carga la libreria drive de google para cargar los archivos almacenados en drive\n",
        "drive.mount(\"/content/gdrive\")\n",
        "\n",
        "# El dataset en cuestión contiene datos sobre tweets en diferentes idiomas, pero nos interesa utilizar solo\n",
        "# los que se encuentran en español.\n",
        "df = pd.read_csv('/content/gdrive/My Drive/imdb_new_dataset.csv')\n",
        "\n",
        "mapping = {'positive': 1, 'negative': 0}\n",
        "df['sentiment'] = df['sentiment'].map(mapping)"
      ],
      "metadata": {
        "id": "Lcdjlhpx1948",
        "colab": {
          "base_uri": "https://localhost:8080/"
        },
        "outputId": "d15922f9-2109-4963-a9b5-030dd7601d36"
      },
      "execution_count": 2,
      "outputs": [
        {
          "output_type": "stream",
          "name": "stdout",
          "text": [
            "Mounted at /content/gdrive\n"
          ]
        }
      ]
    },
    {
      "cell_type": "markdown",
      "source": [
        "Visualización de los primeros 10 registros del dataset"
      ],
      "metadata": {
        "id": "l-CZ_Fzc2Lsz"
      }
    },
    {
      "cell_type": "code",
      "source": [
        "df.head(10)"
      ],
      "metadata": {
        "colab": {
          "base_uri": "https://localhost:8080/",
          "height": 581
        },
        "id": "jgBUxF6H2Jcd",
        "outputId": "36da30b1-e3d0-45d8-ca70-8704f901e7dc"
      },
      "execution_count": 3,
      "outputs": [
        {
          "output_type": "execute_result",
          "data": {
            "text/plain": [
              "   Unnamed: 0.1  Unnamed: 0  \\\n",
              "0             0           0   \n",
              "1             1           1   \n",
              "2             2           2   \n",
              "3             3           3   \n",
              "4             4           4   \n",
              "5             5           5   \n",
              "6             6           6   \n",
              "7             7           7   \n",
              "8             8           8   \n",
              "9             9           9   \n",
              "\n",
              "                                           review_en  \\\n",
              "0  One of the other reviewers has mentioned that ...   \n",
              "1  A wonderful little production. The filming tec...   \n",
              "2  I thought this was a wonderful way to spend ti...   \n",
              "3  Basically there's a family where a little boy ...   \n",
              "4  Petter Mattei's \"Love in the Time of Money\" is...   \n",
              "5  Probably my all-time favorite movie, a story o...   \n",
              "6  I sure would like to see a resurrection of a u...   \n",
              "7  This show was an amazing, fresh & innovative i...   \n",
              "8  Encouraged by the positive comments about this...   \n",
              "9  If you like original gut wrenching laughter yo...   \n",
              "\n",
              "                                           review_es  sentiment  \\\n",
              "0  Uno de los otros críticos ha mencionado que de...          1   \n",
              "1  Una pequeña pequeña producción.La técnica de f...          1   \n",
              "2  Pensé que esta era una manera maravillosa de p...          1   \n",
              "3  Básicamente, hay una familia donde un niño peq...          0   \n",
              "4  El \"amor en el tiempo\" de Petter Mattei es una...          1   \n",
              "5  Probablemente mi película favorita de todos lo...          1   \n",
              "6  Seguro que me gustaría ver una resurrección de...          1   \n",
              "7  Este espectáculo fue una idea increíble, fresc...          0   \n",
              "8  Alentados por los comentarios positivos sobre ...          0   \n",
              "9  Si te gusta la risa original desgarradora, te ...          1   \n",
              "\n",
              "                                            clean_en  \\\n",
              "0  one reviewers mentioned watching 1 oz episode ...   \n",
              "1  wonderful little production filming technique ...   \n",
              "2  thought wonderful way spend time hot summer we...   \n",
              "3  basically theres family little boy jake thinks...   \n",
              "4  petter matteis love time money visually stunni...   \n",
              "5  probably time favorite movie story selflessnes...   \n",
              "6  sure would like see resurrection dated seahunt...   \n",
              "7  show amazing fresh innovative idea 70s first a...   \n",
              "8  encouraged positive comments film looking forw...   \n",
              "9  like original gut wrenching laughter like movi...   \n",
              "\n",
              "                                            clean_es  \n",
              "0  criticos mencionado despues ver solo 1 oz epis...  \n",
              "1  pequena pequena produccion tecnica filmacion i...  \n",
              "2  pense manera maravillosa pasar tiempo fin sema...  \n",
              "3  basicamente familia nino pequeno jake piensa z...  \n",
              "4  amor tiempo petter mattei pelicula visualmente...  \n",
              "5  probablemente pelicula favorita tiempos histor...  \n",
              "6  seguro gustaria ver resurreccion serie seahunt...  \n",
              "7  espectaculo idea increible fresca innovadora a...  \n",
              "8  alentados comentarios positivos pelicula aqui ...  \n",
              "9  si gusta risa original desgarradora gustara pe...  "
            ],
            "text/html": [
              "\n",
              "  <div id=\"df-002caf97-229a-4946-84ef-7250e5be2001\">\n",
              "    <div class=\"colab-df-container\">\n",
              "      <div>\n",
              "<style scoped>\n",
              "    .dataframe tbody tr th:only-of-type {\n",
              "        vertical-align: middle;\n",
              "    }\n",
              "\n",
              "    .dataframe tbody tr th {\n",
              "        vertical-align: top;\n",
              "    }\n",
              "\n",
              "    .dataframe thead th {\n",
              "        text-align: right;\n",
              "    }\n",
              "</style>\n",
              "<table border=\"1\" class=\"dataframe\">\n",
              "  <thead>\n",
              "    <tr style=\"text-align: right;\">\n",
              "      <th></th>\n",
              "      <th>Unnamed: 0.1</th>\n",
              "      <th>Unnamed: 0</th>\n",
              "      <th>review_en</th>\n",
              "      <th>review_es</th>\n",
              "      <th>sentiment</th>\n",
              "      <th>clean_en</th>\n",
              "      <th>clean_es</th>\n",
              "    </tr>\n",
              "  </thead>\n",
              "  <tbody>\n",
              "    <tr>\n",
              "      <th>0</th>\n",
              "      <td>0</td>\n",
              "      <td>0</td>\n",
              "      <td>One of the other reviewers has mentioned that ...</td>\n",
              "      <td>Uno de los otros críticos ha mencionado que de...</td>\n",
              "      <td>1</td>\n",
              "      <td>one reviewers mentioned watching 1 oz episode ...</td>\n",
              "      <td>criticos mencionado despues ver solo 1 oz epis...</td>\n",
              "    </tr>\n",
              "    <tr>\n",
              "      <th>1</th>\n",
              "      <td>1</td>\n",
              "      <td>1</td>\n",
              "      <td>A wonderful little production. The filming tec...</td>\n",
              "      <td>Una pequeña pequeña producción.La técnica de f...</td>\n",
              "      <td>1</td>\n",
              "      <td>wonderful little production filming technique ...</td>\n",
              "      <td>pequena pequena produccion tecnica filmacion i...</td>\n",
              "    </tr>\n",
              "    <tr>\n",
              "      <th>2</th>\n",
              "      <td>2</td>\n",
              "      <td>2</td>\n",
              "      <td>I thought this was a wonderful way to spend ti...</td>\n",
              "      <td>Pensé que esta era una manera maravillosa de p...</td>\n",
              "      <td>1</td>\n",
              "      <td>thought wonderful way spend time hot summer we...</td>\n",
              "      <td>pense manera maravillosa pasar tiempo fin sema...</td>\n",
              "    </tr>\n",
              "    <tr>\n",
              "      <th>3</th>\n",
              "      <td>3</td>\n",
              "      <td>3</td>\n",
              "      <td>Basically there's a family where a little boy ...</td>\n",
              "      <td>Básicamente, hay una familia donde un niño peq...</td>\n",
              "      <td>0</td>\n",
              "      <td>basically theres family little boy jake thinks...</td>\n",
              "      <td>basicamente familia nino pequeno jake piensa z...</td>\n",
              "    </tr>\n",
              "    <tr>\n",
              "      <th>4</th>\n",
              "      <td>4</td>\n",
              "      <td>4</td>\n",
              "      <td>Petter Mattei's \"Love in the Time of Money\" is...</td>\n",
              "      <td>El \"amor en el tiempo\" de Petter Mattei es una...</td>\n",
              "      <td>1</td>\n",
              "      <td>petter matteis love time money visually stunni...</td>\n",
              "      <td>amor tiempo petter mattei pelicula visualmente...</td>\n",
              "    </tr>\n",
              "    <tr>\n",
              "      <th>5</th>\n",
              "      <td>5</td>\n",
              "      <td>5</td>\n",
              "      <td>Probably my all-time favorite movie, a story o...</td>\n",
              "      <td>Probablemente mi película favorita de todos lo...</td>\n",
              "      <td>1</td>\n",
              "      <td>probably time favorite movie story selflessnes...</td>\n",
              "      <td>probablemente pelicula favorita tiempos histor...</td>\n",
              "    </tr>\n",
              "    <tr>\n",
              "      <th>6</th>\n",
              "      <td>6</td>\n",
              "      <td>6</td>\n",
              "      <td>I sure would like to see a resurrection of a u...</td>\n",
              "      <td>Seguro que me gustaría ver una resurrección de...</td>\n",
              "      <td>1</td>\n",
              "      <td>sure would like see resurrection dated seahunt...</td>\n",
              "      <td>seguro gustaria ver resurreccion serie seahunt...</td>\n",
              "    </tr>\n",
              "    <tr>\n",
              "      <th>7</th>\n",
              "      <td>7</td>\n",
              "      <td>7</td>\n",
              "      <td>This show was an amazing, fresh &amp; innovative i...</td>\n",
              "      <td>Este espectáculo fue una idea increíble, fresc...</td>\n",
              "      <td>0</td>\n",
              "      <td>show amazing fresh innovative idea 70s first a...</td>\n",
              "      <td>espectaculo idea increible fresca innovadora a...</td>\n",
              "    </tr>\n",
              "    <tr>\n",
              "      <th>8</th>\n",
              "      <td>8</td>\n",
              "      <td>8</td>\n",
              "      <td>Encouraged by the positive comments about this...</td>\n",
              "      <td>Alentados por los comentarios positivos sobre ...</td>\n",
              "      <td>0</td>\n",
              "      <td>encouraged positive comments film looking forw...</td>\n",
              "      <td>alentados comentarios positivos pelicula aqui ...</td>\n",
              "    </tr>\n",
              "    <tr>\n",
              "      <th>9</th>\n",
              "      <td>9</td>\n",
              "      <td>9</td>\n",
              "      <td>If you like original gut wrenching laughter yo...</td>\n",
              "      <td>Si te gusta la risa original desgarradora, te ...</td>\n",
              "      <td>1</td>\n",
              "      <td>like original gut wrenching laughter like movi...</td>\n",
              "      <td>si gusta risa original desgarradora gustara pe...</td>\n",
              "    </tr>\n",
              "  </tbody>\n",
              "</table>\n",
              "</div>\n",
              "      <button class=\"colab-df-convert\" onclick=\"convertToInteractive('df-002caf97-229a-4946-84ef-7250e5be2001')\"\n",
              "              title=\"Convert this dataframe to an interactive table.\"\n",
              "              style=\"display:none;\">\n",
              "        \n",
              "  <svg xmlns=\"http://www.w3.org/2000/svg\" height=\"24px\"viewBox=\"0 0 24 24\"\n",
              "       width=\"24px\">\n",
              "    <path d=\"M0 0h24v24H0V0z\" fill=\"none\"/>\n",
              "    <path d=\"M18.56 5.44l.94 2.06.94-2.06 2.06-.94-2.06-.94-.94-2.06-.94 2.06-2.06.94zm-11 1L8.5 8.5l.94-2.06 2.06-.94-2.06-.94L8.5 2.5l-.94 2.06-2.06.94zm10 10l.94 2.06.94-2.06 2.06-.94-2.06-.94-.94-2.06-.94 2.06-2.06.94z\"/><path d=\"M17.41 7.96l-1.37-1.37c-.4-.4-.92-.59-1.43-.59-.52 0-1.04.2-1.43.59L10.3 9.45l-7.72 7.72c-.78.78-.78 2.05 0 2.83L4 21.41c.39.39.9.59 1.41.59.51 0 1.02-.2 1.41-.59l7.78-7.78 2.81-2.81c.8-.78.8-2.07 0-2.86zM5.41 20L4 18.59l7.72-7.72 1.47 1.35L5.41 20z\"/>\n",
              "  </svg>\n",
              "      </button>\n",
              "      \n",
              "  <style>\n",
              "    .colab-df-container {\n",
              "      display:flex;\n",
              "      flex-wrap:wrap;\n",
              "      gap: 12px;\n",
              "    }\n",
              "\n",
              "    .colab-df-convert {\n",
              "      background-color: #E8F0FE;\n",
              "      border: none;\n",
              "      border-radius: 50%;\n",
              "      cursor: pointer;\n",
              "      display: none;\n",
              "      fill: #1967D2;\n",
              "      height: 32px;\n",
              "      padding: 0 0 0 0;\n",
              "      width: 32px;\n",
              "    }\n",
              "\n",
              "    .colab-df-convert:hover {\n",
              "      background-color: #E2EBFA;\n",
              "      box-shadow: 0px 1px 2px rgba(60, 64, 67, 0.3), 0px 1px 3px 1px rgba(60, 64, 67, 0.15);\n",
              "      fill: #174EA6;\n",
              "    }\n",
              "\n",
              "    [theme=dark] .colab-df-convert {\n",
              "      background-color: #3B4455;\n",
              "      fill: #D2E3FC;\n",
              "    }\n",
              "\n",
              "    [theme=dark] .colab-df-convert:hover {\n",
              "      background-color: #434B5C;\n",
              "      box-shadow: 0px 1px 3px 1px rgba(0, 0, 0, 0.15);\n",
              "      filter: drop-shadow(0px 1px 2px rgba(0, 0, 0, 0.3));\n",
              "      fill: #FFFFFF;\n",
              "    }\n",
              "  </style>\n",
              "\n",
              "      <script>\n",
              "        const buttonEl =\n",
              "          document.querySelector('#df-002caf97-229a-4946-84ef-7250e5be2001 button.colab-df-convert');\n",
              "        buttonEl.style.display =\n",
              "          google.colab.kernel.accessAllowed ? 'block' : 'none';\n",
              "\n",
              "        async function convertToInteractive(key) {\n",
              "          const element = document.querySelector('#df-002caf97-229a-4946-84ef-7250e5be2001');\n",
              "          const dataTable =\n",
              "            await google.colab.kernel.invokeFunction('convertToInteractive',\n",
              "                                                     [key], {});\n",
              "          if (!dataTable) return;\n",
              "\n",
              "          const docLinkHtml = 'Like what you see? Visit the ' +\n",
              "            '<a target=\"_blank\" href=https://colab.research.google.com/notebooks/data_table.ipynb>data table notebook</a>'\n",
              "            + ' to learn more about interactive tables.';\n",
              "          element.innerHTML = '';\n",
              "          dataTable['output_type'] = 'display_data';\n",
              "          await google.colab.output.renderOutput(dataTable, element);\n",
              "          const docLink = document.createElement('div');\n",
              "          docLink.innerHTML = docLinkHtml;\n",
              "          element.appendChild(docLink);\n",
              "        }\n",
              "      </script>\n",
              "    </div>\n",
              "  </div>\n",
              "  "
            ]
          },
          "metadata": {},
          "execution_count": 3
        }
      ]
    },
    {
      "cell_type": "code",
      "source": [
        "df.shape"
      ],
      "metadata": {
        "colab": {
          "base_uri": "https://localhost:8080/"
        },
        "id": "wMaYykqPeEI1",
        "outputId": "d044bd9a-cde3-4371-e9bb-f4c17dd6f36b"
      },
      "execution_count": 4,
      "outputs": [
        {
          "output_type": "execute_result",
          "data": {
            "text/plain": [
              "(49602, 7)"
            ]
          },
          "metadata": {},
          "execution_count": 4
        }
      ]
    },
    {
      "cell_type": "markdown",
      "source": [
        "## Preprocesamiento y limpieza de datos 🧹"
      ],
      "metadata": {
        "id": "PrU2yGeQ2V1D"
      }
    },
    {
      "cell_type": "code",
      "source": [
        "df = df.dropna()"
      ],
      "metadata": {
        "id": "GEWqFGwV2xal"
      },
      "execution_count": 5,
      "outputs": []
    },
    {
      "cell_type": "code",
      "source": [
        "df.shape"
      ],
      "metadata": {
        "colab": {
          "base_uri": "https://localhost:8080/"
        },
        "id": "Zlqh_P8Ad63f",
        "outputId": "615635a1-1c14-4c40-dfa7-9791bf1ace36"
      },
      "execution_count": 6,
      "outputs": [
        {
          "output_type": "execute_result",
          "data": {
            "text/plain": [
              "(49602, 7)"
            ]
          },
          "metadata": {},
          "execution_count": 6
        }
      ]
    },
    {
      "cell_type": "markdown",
      "source": [
        "## Creación de datos de entrenamiento y prueba 🏋"
      ],
      "metadata": {
        "id": "2behCTA93Fnl"
      }
    },
    {
      "cell_type": "markdown",
      "source": [
        "Se define una proporción de 80/20 para la creación de los datos de prueba y testeo."
      ],
      "metadata": {
        "id": "v-MxkoLR3YPD"
      }
    },
    {
      "cell_type": "code",
      "source": [
        "train_pct = 0.8\n",
        "train_size = round(len(df) * train_pct)\n",
        "\n",
        "train_data = df.iloc[:train_size]\n",
        "test_data = df.iloc[train_size:]\n",
        "\n",
        "test_data = test_data.drop('sentiment', axis=1)"
      ],
      "metadata": {
        "id": "fpPBr0Z_3Koj"
      },
      "execution_count": 7,
      "outputs": []
    },
    {
      "cell_type": "code",
      "source": [
        "train_data.head(20)"
      ],
      "metadata": {
        "colab": {
          "base_uri": "https://localhost:8080/",
          "height": 1000
        },
        "id": "sYKXln1r3eO8",
        "outputId": "b801d586-df5c-44f9-d0cf-7d0dc1f04aaa"
      },
      "execution_count": 8,
      "outputs": [
        {
          "output_type": "execute_result",
          "data": {
            "text/plain": [
              "    Unnamed: 0.1  Unnamed: 0  \\\n",
              "0              0           0   \n",
              "1              1           1   \n",
              "2              2           2   \n",
              "3              3           3   \n",
              "4              4           4   \n",
              "5              5           5   \n",
              "6              6           6   \n",
              "7              7           7   \n",
              "8              8           8   \n",
              "9              9           9   \n",
              "10            10          10   \n",
              "11            11          11   \n",
              "12            12          12   \n",
              "13            13          13   \n",
              "14            14          14   \n",
              "15            15          15   \n",
              "16            16          16   \n",
              "17            17          17   \n",
              "18            18          18   \n",
              "19            19          19   \n",
              "\n",
              "                                            review_en  \\\n",
              "0   One of the other reviewers has mentioned that ...   \n",
              "1   A wonderful little production. The filming tec...   \n",
              "2   I thought this was a wonderful way to spend ti...   \n",
              "3   Basically there's a family where a little boy ...   \n",
              "4   Petter Mattei's \"Love in the Time of Money\" is...   \n",
              "5   Probably my all-time favorite movie, a story o...   \n",
              "6   I sure would like to see a resurrection of a u...   \n",
              "7   This show was an amazing, fresh & innovative i...   \n",
              "8   Encouraged by the positive comments about this...   \n",
              "9   If you like original gut wrenching laughter yo...   \n",
              "10  Phil the Alien is one of those quirky films wh...   \n",
              "11  I saw this movie when I was about 12 when it c...   \n",
              "12  So im not a big fan of Boll's work but then ag...   \n",
              "13  The cast played Shakespeare.Shakespeare lost.I...   \n",
              "14  This a fantastic movie of three prisoners who ...   \n",
              "15  Kind of drawn in by the erotic scenes, only to...   \n",
              "16  Some films just simply should not be remade. T...   \n",
              "17  This movie made it into one of my top 10 most ...   \n",
              "18  I remember this film,it was the first film i h...   \n",
              "19  An awful film! It must have been up against so...   \n",
              "\n",
              "                                            review_es  sentiment  \\\n",
              "0   Uno de los otros críticos ha mencionado que de...          1   \n",
              "1   Una pequeña pequeña producción.La técnica de f...          1   \n",
              "2   Pensé que esta era una manera maravillosa de p...          1   \n",
              "3   Básicamente, hay una familia donde un niño peq...          0   \n",
              "4   El \"amor en el tiempo\" de Petter Mattei es una...          1   \n",
              "5   Probablemente mi película favorita de todos lo...          1   \n",
              "6   Seguro que me gustaría ver una resurrección de...          1   \n",
              "7   Este espectáculo fue una idea increíble, fresc...          0   \n",
              "8   Alentados por los comentarios positivos sobre ...          0   \n",
              "9   Si te gusta la risa original desgarradora, te ...          1   \n",
              "10  Phil El alienígena es una de esas películas pe...          0   \n",
              "11  Vi esta película cuando tenía alrededor de 12 ...          0   \n",
              "12  Así que no soy un gran fanático del trabajo de...          0   \n",
              "13  El reparto jugó a Shakespeare.Shakespeare perd...          0   \n",
              "14  Esta es una fantástica película de tres prisio...          1   \n",
              "15  Tipo de las escenas eróticas, solo para darte ...          0   \n",
              "16  Algunas películas simplemente no deben ser reh...          1   \n",
              "17  Esta película lo convirtió en una de las 10 me...          0   \n",
              "18  Recuerdo esta película, fue la primera películ...          1   \n",
              "19  Una película horrible!Debe haber estado en con...          0   \n",
              "\n",
              "                                             clean_en  \\\n",
              "0   one reviewers mentioned watching 1 oz episode ...   \n",
              "1   wonderful little production filming technique ...   \n",
              "2   thought wonderful way spend time hot summer we...   \n",
              "3   basically theres family little boy jake thinks...   \n",
              "4   petter matteis love time money visually stunni...   \n",
              "5   probably time favorite movie story selflessnes...   \n",
              "6   sure would like see resurrection dated seahunt...   \n",
              "7   show amazing fresh innovative idea 70s first a...   \n",
              "8   encouraged positive comments film looking forw...   \n",
              "9   like original gut wrenching laughter like movi...   \n",
              "10  phil alien one quirky films humour based aroun...   \n",
              "11  saw movie 12 came recall scariest scene big bi...   \n",
              "12  im big fan bolls work many enjoyed movie posta...   \n",
              "13  cast played shakespeare shakespeare lost appre...   \n",
              "14  fantastic movie three prisoners become famous ...   \n",
              "15  kind drawn erotic scenes realize one amateuris...   \n",
              "16  films simply remade one bad film fails capture...   \n",
              "17  movie made one top 10 awful movies horrible wa...   \n",
              "18  remember film first film watched cinema pictur...   \n",
              "19  awful film must real stinkers nominated golden...   \n",
              "\n",
              "                                             clean_es  \n",
              "0   criticos mencionado despues ver solo 1 oz epis...  \n",
              "1   pequena pequena produccion tecnica filmacion i...  \n",
              "2   pense manera maravillosa pasar tiempo fin sema...  \n",
              "3   basicamente familia nino pequeno jake piensa z...  \n",
              "4   amor tiempo petter mattei pelicula visualmente...  \n",
              "5   probablemente pelicula favorita tiempos histor...  \n",
              "6   seguro gustaria ver resurreccion serie seahunt...  \n",
              "7   espectaculo idea increible fresca innovadora a...  \n",
              "8   alentados comentarios positivos pelicula aqui ...  \n",
              "9   si gusta risa original desgarradora gustara pe...  \n",
              "10  phil alienigena peliculas peculiares humor bas...  \n",
              "11  vi pelicula tenia alrededor 12 sali recuerdo e...  \n",
              "12  asi gran fanatico trabajo boll nuevo disfrute ...  \n",
              "13  reparto jugo shakespeare shakespeare perdido a...  \n",
              "14  fantastica pelicula tres prisioneros hacen fam...  \n",
              "15  tipo escenas eroticas solo darte cuenta bits p...  \n",
              "16  peliculas simplemente deben ser rehacciones si...  \n",
              "17  pelicula convirtio 10 mejores peliculas mas ho...  \n",
              "18  recuerdo pelicula primera pelicula habia visto...  \n",
              "19  pelicula horrible debe haber apestos reales se...  "
            ],
            "text/html": [
              "\n",
              "  <div id=\"df-cd3017f1-35ec-4c3d-b804-7ad7deca7260\">\n",
              "    <div class=\"colab-df-container\">\n",
              "      <div>\n",
              "<style scoped>\n",
              "    .dataframe tbody tr th:only-of-type {\n",
              "        vertical-align: middle;\n",
              "    }\n",
              "\n",
              "    .dataframe tbody tr th {\n",
              "        vertical-align: top;\n",
              "    }\n",
              "\n",
              "    .dataframe thead th {\n",
              "        text-align: right;\n",
              "    }\n",
              "</style>\n",
              "<table border=\"1\" class=\"dataframe\">\n",
              "  <thead>\n",
              "    <tr style=\"text-align: right;\">\n",
              "      <th></th>\n",
              "      <th>Unnamed: 0.1</th>\n",
              "      <th>Unnamed: 0</th>\n",
              "      <th>review_en</th>\n",
              "      <th>review_es</th>\n",
              "      <th>sentiment</th>\n",
              "      <th>clean_en</th>\n",
              "      <th>clean_es</th>\n",
              "    </tr>\n",
              "  </thead>\n",
              "  <tbody>\n",
              "    <tr>\n",
              "      <th>0</th>\n",
              "      <td>0</td>\n",
              "      <td>0</td>\n",
              "      <td>One of the other reviewers has mentioned that ...</td>\n",
              "      <td>Uno de los otros críticos ha mencionado que de...</td>\n",
              "      <td>1</td>\n",
              "      <td>one reviewers mentioned watching 1 oz episode ...</td>\n",
              "      <td>criticos mencionado despues ver solo 1 oz epis...</td>\n",
              "    </tr>\n",
              "    <tr>\n",
              "      <th>1</th>\n",
              "      <td>1</td>\n",
              "      <td>1</td>\n",
              "      <td>A wonderful little production. The filming tec...</td>\n",
              "      <td>Una pequeña pequeña producción.La técnica de f...</td>\n",
              "      <td>1</td>\n",
              "      <td>wonderful little production filming technique ...</td>\n",
              "      <td>pequena pequena produccion tecnica filmacion i...</td>\n",
              "    </tr>\n",
              "    <tr>\n",
              "      <th>2</th>\n",
              "      <td>2</td>\n",
              "      <td>2</td>\n",
              "      <td>I thought this was a wonderful way to spend ti...</td>\n",
              "      <td>Pensé que esta era una manera maravillosa de p...</td>\n",
              "      <td>1</td>\n",
              "      <td>thought wonderful way spend time hot summer we...</td>\n",
              "      <td>pense manera maravillosa pasar tiempo fin sema...</td>\n",
              "    </tr>\n",
              "    <tr>\n",
              "      <th>3</th>\n",
              "      <td>3</td>\n",
              "      <td>3</td>\n",
              "      <td>Basically there's a family where a little boy ...</td>\n",
              "      <td>Básicamente, hay una familia donde un niño peq...</td>\n",
              "      <td>0</td>\n",
              "      <td>basically theres family little boy jake thinks...</td>\n",
              "      <td>basicamente familia nino pequeno jake piensa z...</td>\n",
              "    </tr>\n",
              "    <tr>\n",
              "      <th>4</th>\n",
              "      <td>4</td>\n",
              "      <td>4</td>\n",
              "      <td>Petter Mattei's \"Love in the Time of Money\" is...</td>\n",
              "      <td>El \"amor en el tiempo\" de Petter Mattei es una...</td>\n",
              "      <td>1</td>\n",
              "      <td>petter matteis love time money visually stunni...</td>\n",
              "      <td>amor tiempo petter mattei pelicula visualmente...</td>\n",
              "    </tr>\n",
              "    <tr>\n",
              "      <th>5</th>\n",
              "      <td>5</td>\n",
              "      <td>5</td>\n",
              "      <td>Probably my all-time favorite movie, a story o...</td>\n",
              "      <td>Probablemente mi película favorita de todos lo...</td>\n",
              "      <td>1</td>\n",
              "      <td>probably time favorite movie story selflessnes...</td>\n",
              "      <td>probablemente pelicula favorita tiempos histor...</td>\n",
              "    </tr>\n",
              "    <tr>\n",
              "      <th>6</th>\n",
              "      <td>6</td>\n",
              "      <td>6</td>\n",
              "      <td>I sure would like to see a resurrection of a u...</td>\n",
              "      <td>Seguro que me gustaría ver una resurrección de...</td>\n",
              "      <td>1</td>\n",
              "      <td>sure would like see resurrection dated seahunt...</td>\n",
              "      <td>seguro gustaria ver resurreccion serie seahunt...</td>\n",
              "    </tr>\n",
              "    <tr>\n",
              "      <th>7</th>\n",
              "      <td>7</td>\n",
              "      <td>7</td>\n",
              "      <td>This show was an amazing, fresh &amp; innovative i...</td>\n",
              "      <td>Este espectáculo fue una idea increíble, fresc...</td>\n",
              "      <td>0</td>\n",
              "      <td>show amazing fresh innovative idea 70s first a...</td>\n",
              "      <td>espectaculo idea increible fresca innovadora a...</td>\n",
              "    </tr>\n",
              "    <tr>\n",
              "      <th>8</th>\n",
              "      <td>8</td>\n",
              "      <td>8</td>\n",
              "      <td>Encouraged by the positive comments about this...</td>\n",
              "      <td>Alentados por los comentarios positivos sobre ...</td>\n",
              "      <td>0</td>\n",
              "      <td>encouraged positive comments film looking forw...</td>\n",
              "      <td>alentados comentarios positivos pelicula aqui ...</td>\n",
              "    </tr>\n",
              "    <tr>\n",
              "      <th>9</th>\n",
              "      <td>9</td>\n",
              "      <td>9</td>\n",
              "      <td>If you like original gut wrenching laughter yo...</td>\n",
              "      <td>Si te gusta la risa original desgarradora, te ...</td>\n",
              "      <td>1</td>\n",
              "      <td>like original gut wrenching laughter like movi...</td>\n",
              "      <td>si gusta risa original desgarradora gustara pe...</td>\n",
              "    </tr>\n",
              "    <tr>\n",
              "      <th>10</th>\n",
              "      <td>10</td>\n",
              "      <td>10</td>\n",
              "      <td>Phil the Alien is one of those quirky films wh...</td>\n",
              "      <td>Phil El alienígena es una de esas películas pe...</td>\n",
              "      <td>0</td>\n",
              "      <td>phil alien one quirky films humour based aroun...</td>\n",
              "      <td>phil alienigena peliculas peculiares humor bas...</td>\n",
              "    </tr>\n",
              "    <tr>\n",
              "      <th>11</th>\n",
              "      <td>11</td>\n",
              "      <td>11</td>\n",
              "      <td>I saw this movie when I was about 12 when it c...</td>\n",
              "      <td>Vi esta película cuando tenía alrededor de 12 ...</td>\n",
              "      <td>0</td>\n",
              "      <td>saw movie 12 came recall scariest scene big bi...</td>\n",
              "      <td>vi pelicula tenia alrededor 12 sali recuerdo e...</td>\n",
              "    </tr>\n",
              "    <tr>\n",
              "      <th>12</th>\n",
              "      <td>12</td>\n",
              "      <td>12</td>\n",
              "      <td>So im not a big fan of Boll's work but then ag...</td>\n",
              "      <td>Así que no soy un gran fanático del trabajo de...</td>\n",
              "      <td>0</td>\n",
              "      <td>im big fan bolls work many enjoyed movie posta...</td>\n",
              "      <td>asi gran fanatico trabajo boll nuevo disfrute ...</td>\n",
              "    </tr>\n",
              "    <tr>\n",
              "      <th>13</th>\n",
              "      <td>13</td>\n",
              "      <td>13</td>\n",
              "      <td>The cast played Shakespeare.Shakespeare lost.I...</td>\n",
              "      <td>El reparto jugó a Shakespeare.Shakespeare perd...</td>\n",
              "      <td>0</td>\n",
              "      <td>cast played shakespeare shakespeare lost appre...</td>\n",
              "      <td>reparto jugo shakespeare shakespeare perdido a...</td>\n",
              "    </tr>\n",
              "    <tr>\n",
              "      <th>14</th>\n",
              "      <td>14</td>\n",
              "      <td>14</td>\n",
              "      <td>This a fantastic movie of three prisoners who ...</td>\n",
              "      <td>Esta es una fantástica película de tres prisio...</td>\n",
              "      <td>1</td>\n",
              "      <td>fantastic movie three prisoners become famous ...</td>\n",
              "      <td>fantastica pelicula tres prisioneros hacen fam...</td>\n",
              "    </tr>\n",
              "    <tr>\n",
              "      <th>15</th>\n",
              "      <td>15</td>\n",
              "      <td>15</td>\n",
              "      <td>Kind of drawn in by the erotic scenes, only to...</td>\n",
              "      <td>Tipo de las escenas eróticas, solo para darte ...</td>\n",
              "      <td>0</td>\n",
              "      <td>kind drawn erotic scenes realize one amateuris...</td>\n",
              "      <td>tipo escenas eroticas solo darte cuenta bits p...</td>\n",
              "    </tr>\n",
              "    <tr>\n",
              "      <th>16</th>\n",
              "      <td>16</td>\n",
              "      <td>16</td>\n",
              "      <td>Some films just simply should not be remade. T...</td>\n",
              "      <td>Algunas películas simplemente no deben ser reh...</td>\n",
              "      <td>1</td>\n",
              "      <td>films simply remade one bad film fails capture...</td>\n",
              "      <td>peliculas simplemente deben ser rehacciones si...</td>\n",
              "    </tr>\n",
              "    <tr>\n",
              "      <th>17</th>\n",
              "      <td>17</td>\n",
              "      <td>17</td>\n",
              "      <td>This movie made it into one of my top 10 most ...</td>\n",
              "      <td>Esta película lo convirtió en una de las 10 me...</td>\n",
              "      <td>0</td>\n",
              "      <td>movie made one top 10 awful movies horrible wa...</td>\n",
              "      <td>pelicula convirtio 10 mejores peliculas mas ho...</td>\n",
              "    </tr>\n",
              "    <tr>\n",
              "      <th>18</th>\n",
              "      <td>18</td>\n",
              "      <td>18</td>\n",
              "      <td>I remember this film,it was the first film i h...</td>\n",
              "      <td>Recuerdo esta película, fue la primera películ...</td>\n",
              "      <td>1</td>\n",
              "      <td>remember film first film watched cinema pictur...</td>\n",
              "      <td>recuerdo pelicula primera pelicula habia visto...</td>\n",
              "    </tr>\n",
              "    <tr>\n",
              "      <th>19</th>\n",
              "      <td>19</td>\n",
              "      <td>19</td>\n",
              "      <td>An awful film! It must have been up against so...</td>\n",
              "      <td>Una película horrible!Debe haber estado en con...</td>\n",
              "      <td>0</td>\n",
              "      <td>awful film must real stinkers nominated golden...</td>\n",
              "      <td>pelicula horrible debe haber apestos reales se...</td>\n",
              "    </tr>\n",
              "  </tbody>\n",
              "</table>\n",
              "</div>\n",
              "      <button class=\"colab-df-convert\" onclick=\"convertToInteractive('df-cd3017f1-35ec-4c3d-b804-7ad7deca7260')\"\n",
              "              title=\"Convert this dataframe to an interactive table.\"\n",
              "              style=\"display:none;\">\n",
              "        \n",
              "  <svg xmlns=\"http://www.w3.org/2000/svg\" height=\"24px\"viewBox=\"0 0 24 24\"\n",
              "       width=\"24px\">\n",
              "    <path d=\"M0 0h24v24H0V0z\" fill=\"none\"/>\n",
              "    <path d=\"M18.56 5.44l.94 2.06.94-2.06 2.06-.94-2.06-.94-.94-2.06-.94 2.06-2.06.94zm-11 1L8.5 8.5l.94-2.06 2.06-.94-2.06-.94L8.5 2.5l-.94 2.06-2.06.94zm10 10l.94 2.06.94-2.06 2.06-.94-2.06-.94-.94-2.06-.94 2.06-2.06.94z\"/><path d=\"M17.41 7.96l-1.37-1.37c-.4-.4-.92-.59-1.43-.59-.52 0-1.04.2-1.43.59L10.3 9.45l-7.72 7.72c-.78.78-.78 2.05 0 2.83L4 21.41c.39.39.9.59 1.41.59.51 0 1.02-.2 1.41-.59l7.78-7.78 2.81-2.81c.8-.78.8-2.07 0-2.86zM5.41 20L4 18.59l7.72-7.72 1.47 1.35L5.41 20z\"/>\n",
              "  </svg>\n",
              "      </button>\n",
              "      \n",
              "  <style>\n",
              "    .colab-df-container {\n",
              "      display:flex;\n",
              "      flex-wrap:wrap;\n",
              "      gap: 12px;\n",
              "    }\n",
              "\n",
              "    .colab-df-convert {\n",
              "      background-color: #E8F0FE;\n",
              "      border: none;\n",
              "      border-radius: 50%;\n",
              "      cursor: pointer;\n",
              "      display: none;\n",
              "      fill: #1967D2;\n",
              "      height: 32px;\n",
              "      padding: 0 0 0 0;\n",
              "      width: 32px;\n",
              "    }\n",
              "\n",
              "    .colab-df-convert:hover {\n",
              "      background-color: #E2EBFA;\n",
              "      box-shadow: 0px 1px 2px rgba(60, 64, 67, 0.3), 0px 1px 3px 1px rgba(60, 64, 67, 0.15);\n",
              "      fill: #174EA6;\n",
              "    }\n",
              "\n",
              "    [theme=dark] .colab-df-convert {\n",
              "      background-color: #3B4455;\n",
              "      fill: #D2E3FC;\n",
              "    }\n",
              "\n",
              "    [theme=dark] .colab-df-convert:hover {\n",
              "      background-color: #434B5C;\n",
              "      box-shadow: 0px 1px 3px 1px rgba(0, 0, 0, 0.15);\n",
              "      filter: drop-shadow(0px 1px 2px rgba(0, 0, 0, 0.3));\n",
              "      fill: #FFFFFF;\n",
              "    }\n",
              "  </style>\n",
              "\n",
              "      <script>\n",
              "        const buttonEl =\n",
              "          document.querySelector('#df-cd3017f1-35ec-4c3d-b804-7ad7deca7260 button.colab-df-convert');\n",
              "        buttonEl.style.display =\n",
              "          google.colab.kernel.accessAllowed ? 'block' : 'none';\n",
              "\n",
              "        async function convertToInteractive(key) {\n",
              "          const element = document.querySelector('#df-cd3017f1-35ec-4c3d-b804-7ad7deca7260');\n",
              "          const dataTable =\n",
              "            await google.colab.kernel.invokeFunction('convertToInteractive',\n",
              "                                                     [key], {});\n",
              "          if (!dataTable) return;\n",
              "\n",
              "          const docLinkHtml = 'Like what you see? Visit the ' +\n",
              "            '<a target=\"_blank\" href=https://colab.research.google.com/notebooks/data_table.ipynb>data table notebook</a>'\n",
              "            + ' to learn more about interactive tables.';\n",
              "          element.innerHTML = '';\n",
              "          dataTable['output_type'] = 'display_data';\n",
              "          await google.colab.output.renderOutput(dataTable, element);\n",
              "          const docLink = document.createElement('div');\n",
              "          docLink.innerHTML = docLinkHtml;\n",
              "          element.appendChild(docLink);\n",
              "        }\n",
              "      </script>\n",
              "    </div>\n",
              "  </div>\n",
              "  "
            ]
          },
          "metadata": {},
          "execution_count": 8
        }
      ]
    },
    {
      "cell_type": "code",
      "source": [
        "test_data.head(10)"
      ],
      "metadata": {
        "colab": {
          "base_uri": "https://localhost:8080/",
          "height": 511
        },
        "id": "r0FacFI63nZU",
        "outputId": "3e4ab21a-368a-48ea-b46e-a7ea59b70d28"
      },
      "execution_count": 50,
      "outputs": [
        {
          "output_type": "execute_result",
          "data": {
            "text/plain": [
              "       Unnamed: 0.1  Unnamed: 0  \\\n",
              "39682         39932       39932   \n",
              "39683         39934       39934   \n",
              "39684         39935       39935   \n",
              "39685         39936       39936   \n",
              "39686         39937       39937   \n",
              "39687         39938       39938   \n",
              "39688         39939       39939   \n",
              "39689         39940       39940   \n",
              "39690         39941       39941   \n",
              "39691         39942       39942   \n",
              "\n",
              "                                               review_en  \\\n",
              "39682  This is easily the worst movie i have EVER see...   \n",
              "39683  \"Admissions\" is a fine drama even though they'...   \n",
              "39684  The movie started very well..so far Isabelle's...   \n",
              "39685  Now let me tell you about this movie, this mov...   \n",
              "39686  it's a good watch if u have time - deals with ...   \n",
              "39687  I never saw this movie until I bought the tape...   \n",
              "39688  In 1904 Tangier, a wealthy American woman and ...   \n",
              "39689  OK Hollywood is not liberal.Obviously I'm liei...   \n",
              "39690  This is the result of the town of Milpitas Cal...   \n",
              "39691  Also known in a different form as \"House of Ex...   \n",
              "\n",
              "                                               review_es  \\\n",
              "39682  Esta es fácilmente la peor película que he vis...   \n",
              "39683  \"Admisiones\" es un buen drama a pesar de que s...   \n",
              "39684  La película comenzó muy bien ... por ejemplo, ...   \n",
              "39685  ¡Ahora déjame contarte sobre esta película, es...   \n",
              "39686  Es un buen reloj si tienes tiempo, se ocupa de...   \n",
              "39687  Nunca vi esta película hasta que compré la cin...   \n",
              "39688  En 1904, Tánger, una mujer estadounidense adin...   \n",
              "39689  Ok, Hollywood no es liberal. Observmente me es...   \n",
              "39690  Este es el resultado de la ciudad de Milpitas ...   \n",
              "39691  También conocido en una forma diferente como \"...   \n",
              "\n",
              "                                                clean_en  \\\n",
              "39682  easily worst movie ever seen im exaggerating t...   \n",
              "39683  admissions fine drama even though theyre probl...   \n",
              "39684  movie started well far isabelles exorcism coul...   \n",
              "39685  let tell movie movie favorite movie movie exce...   \n",
              "39686  good watch u time deals three friends get need...   \n",
              "39687  never saw movie bought tape last year enthrall...   \n",
              "39688  1904 tangier wealthy american woman two childr...   \n",
              "39689  ok hollywood liberal obviously im lieing im co...   \n",
              "39690  result town milpitas california making home mo...   \n",
              "39691  also known different form house exorcism messy...   \n",
              "\n",
              "                                                clean_es  \n",
              "39682  facilmente peor pelicula visto exagerando dije...  \n",
              "39683  admisiones buen drama pesar problemas final la...  \n",
              "39684  pelicula comenzo bien ejemplo exorcismo isabel...  \n",
              "39685  ahora dejame contarte pelicula pelicula pelicu...  \n",
              "39686  buen reloj si tiempo ocupa tres amigos ponen l...  \n",
              "39687  nunca vi pelicula compre cinta ano pasado caut...  \n",
              "39688  1904 tanger mujer estadounidense adinerada dos...  \n",
              "39689  ok hollywood liberal observmente miente conser...  \n",
              "39690  resultado ciudad milpitas california haciendo ...  \n",
              "39691  tambien conocido forma diferente casa exorcism...  "
            ],
            "text/html": [
              "\n",
              "  <div id=\"df-29596ab2-2ff5-406b-bcef-8c0a41086c66\">\n",
              "    <div class=\"colab-df-container\">\n",
              "      <div>\n",
              "<style scoped>\n",
              "    .dataframe tbody tr th:only-of-type {\n",
              "        vertical-align: middle;\n",
              "    }\n",
              "\n",
              "    .dataframe tbody tr th {\n",
              "        vertical-align: top;\n",
              "    }\n",
              "\n",
              "    .dataframe thead th {\n",
              "        text-align: right;\n",
              "    }\n",
              "</style>\n",
              "<table border=\"1\" class=\"dataframe\">\n",
              "  <thead>\n",
              "    <tr style=\"text-align: right;\">\n",
              "      <th></th>\n",
              "      <th>Unnamed: 0.1</th>\n",
              "      <th>Unnamed: 0</th>\n",
              "      <th>review_en</th>\n",
              "      <th>review_es</th>\n",
              "      <th>clean_en</th>\n",
              "      <th>clean_es</th>\n",
              "    </tr>\n",
              "  </thead>\n",
              "  <tbody>\n",
              "    <tr>\n",
              "      <th>39682</th>\n",
              "      <td>39932</td>\n",
              "      <td>39932</td>\n",
              "      <td>This is easily the worst movie i have EVER see...</td>\n",
              "      <td>Esta es fácilmente la peor película que he vis...</td>\n",
              "      <td>easily worst movie ever seen im exaggerating t...</td>\n",
              "      <td>facilmente peor pelicula visto exagerando dije...</td>\n",
              "    </tr>\n",
              "    <tr>\n",
              "      <th>39683</th>\n",
              "      <td>39934</td>\n",
              "      <td>39934</td>\n",
              "      <td>\"Admissions\" is a fine drama even though they'...</td>\n",
              "      <td>\"Admisiones\" es un buen drama a pesar de que s...</td>\n",
              "      <td>admissions fine drama even though theyre probl...</td>\n",
              "      <td>admisiones buen drama pesar problemas final la...</td>\n",
              "    </tr>\n",
              "    <tr>\n",
              "      <th>39684</th>\n",
              "      <td>39935</td>\n",
              "      <td>39935</td>\n",
              "      <td>The movie started very well..so far Isabelle's...</td>\n",
              "      <td>La película comenzó muy bien ... por ejemplo, ...</td>\n",
              "      <td>movie started well far isabelles exorcism coul...</td>\n",
              "      <td>pelicula comenzo bien ejemplo exorcismo isabel...</td>\n",
              "    </tr>\n",
              "    <tr>\n",
              "      <th>39685</th>\n",
              "      <td>39936</td>\n",
              "      <td>39936</td>\n",
              "      <td>Now let me tell you about this movie, this mov...</td>\n",
              "      <td>¡Ahora déjame contarte sobre esta película, es...</td>\n",
              "      <td>let tell movie movie favorite movie movie exce...</td>\n",
              "      <td>ahora dejame contarte pelicula pelicula pelicu...</td>\n",
              "    </tr>\n",
              "    <tr>\n",
              "      <th>39686</th>\n",
              "      <td>39937</td>\n",
              "      <td>39937</td>\n",
              "      <td>it's a good watch if u have time - deals with ...</td>\n",
              "      <td>Es un buen reloj si tienes tiempo, se ocupa de...</td>\n",
              "      <td>good watch u time deals three friends get need...</td>\n",
              "      <td>buen reloj si tiempo ocupa tres amigos ponen l...</td>\n",
              "    </tr>\n",
              "    <tr>\n",
              "      <th>39687</th>\n",
              "      <td>39938</td>\n",
              "      <td>39938</td>\n",
              "      <td>I never saw this movie until I bought the tape...</td>\n",
              "      <td>Nunca vi esta película hasta que compré la cin...</td>\n",
              "      <td>never saw movie bought tape last year enthrall...</td>\n",
              "      <td>nunca vi pelicula compre cinta ano pasado caut...</td>\n",
              "    </tr>\n",
              "    <tr>\n",
              "      <th>39688</th>\n",
              "      <td>39939</td>\n",
              "      <td>39939</td>\n",
              "      <td>In 1904 Tangier, a wealthy American woman and ...</td>\n",
              "      <td>En 1904, Tánger, una mujer estadounidense adin...</td>\n",
              "      <td>1904 tangier wealthy american woman two childr...</td>\n",
              "      <td>1904 tanger mujer estadounidense adinerada dos...</td>\n",
              "    </tr>\n",
              "    <tr>\n",
              "      <th>39689</th>\n",
              "      <td>39940</td>\n",
              "      <td>39940</td>\n",
              "      <td>OK Hollywood is not liberal.Obviously I'm liei...</td>\n",
              "      <td>Ok, Hollywood no es liberal. Observmente me es...</td>\n",
              "      <td>ok hollywood liberal obviously im lieing im co...</td>\n",
              "      <td>ok hollywood liberal observmente miente conser...</td>\n",
              "    </tr>\n",
              "    <tr>\n",
              "      <th>39690</th>\n",
              "      <td>39941</td>\n",
              "      <td>39941</td>\n",
              "      <td>This is the result of the town of Milpitas Cal...</td>\n",
              "      <td>Este es el resultado de la ciudad de Milpitas ...</td>\n",
              "      <td>result town milpitas california making home mo...</td>\n",
              "      <td>resultado ciudad milpitas california haciendo ...</td>\n",
              "    </tr>\n",
              "    <tr>\n",
              "      <th>39691</th>\n",
              "      <td>39942</td>\n",
              "      <td>39942</td>\n",
              "      <td>Also known in a different form as \"House of Ex...</td>\n",
              "      <td>También conocido en una forma diferente como \"...</td>\n",
              "      <td>also known different form house exorcism messy...</td>\n",
              "      <td>tambien conocido forma diferente casa exorcism...</td>\n",
              "    </tr>\n",
              "  </tbody>\n",
              "</table>\n",
              "</div>\n",
              "      <button class=\"colab-df-convert\" onclick=\"convertToInteractive('df-29596ab2-2ff5-406b-bcef-8c0a41086c66')\"\n",
              "              title=\"Convert this dataframe to an interactive table.\"\n",
              "              style=\"display:none;\">\n",
              "        \n",
              "  <svg xmlns=\"http://www.w3.org/2000/svg\" height=\"24px\"viewBox=\"0 0 24 24\"\n",
              "       width=\"24px\">\n",
              "    <path d=\"M0 0h24v24H0V0z\" fill=\"none\"/>\n",
              "    <path d=\"M18.56 5.44l.94 2.06.94-2.06 2.06-.94-2.06-.94-.94-2.06-.94 2.06-2.06.94zm-11 1L8.5 8.5l.94-2.06 2.06-.94-2.06-.94L8.5 2.5l-.94 2.06-2.06.94zm10 10l.94 2.06.94-2.06 2.06-.94-2.06-.94-.94-2.06-.94 2.06-2.06.94z\"/><path d=\"M17.41 7.96l-1.37-1.37c-.4-.4-.92-.59-1.43-.59-.52 0-1.04.2-1.43.59L10.3 9.45l-7.72 7.72c-.78.78-.78 2.05 0 2.83L4 21.41c.39.39.9.59 1.41.59.51 0 1.02-.2 1.41-.59l7.78-7.78 2.81-2.81c.8-.78.8-2.07 0-2.86zM5.41 20L4 18.59l7.72-7.72 1.47 1.35L5.41 20z\"/>\n",
              "  </svg>\n",
              "      </button>\n",
              "      \n",
              "  <style>\n",
              "    .colab-df-container {\n",
              "      display:flex;\n",
              "      flex-wrap:wrap;\n",
              "      gap: 12px;\n",
              "    }\n",
              "\n",
              "    .colab-df-convert {\n",
              "      background-color: #E8F0FE;\n",
              "      border: none;\n",
              "      border-radius: 50%;\n",
              "      cursor: pointer;\n",
              "      display: none;\n",
              "      fill: #1967D2;\n",
              "      height: 32px;\n",
              "      padding: 0 0 0 0;\n",
              "      width: 32px;\n",
              "    }\n",
              "\n",
              "    .colab-df-convert:hover {\n",
              "      background-color: #E2EBFA;\n",
              "      box-shadow: 0px 1px 2px rgba(60, 64, 67, 0.3), 0px 1px 3px 1px rgba(60, 64, 67, 0.15);\n",
              "      fill: #174EA6;\n",
              "    }\n",
              "\n",
              "    [theme=dark] .colab-df-convert {\n",
              "      background-color: #3B4455;\n",
              "      fill: #D2E3FC;\n",
              "    }\n",
              "\n",
              "    [theme=dark] .colab-df-convert:hover {\n",
              "      background-color: #434B5C;\n",
              "      box-shadow: 0px 1px 3px 1px rgba(0, 0, 0, 0.15);\n",
              "      filter: drop-shadow(0px 1px 2px rgba(0, 0, 0, 0.3));\n",
              "      fill: #FFFFFF;\n",
              "    }\n",
              "  </style>\n",
              "\n",
              "      <script>\n",
              "        const buttonEl =\n",
              "          document.querySelector('#df-29596ab2-2ff5-406b-bcef-8c0a41086c66 button.colab-df-convert');\n",
              "        buttonEl.style.display =\n",
              "          google.colab.kernel.accessAllowed ? 'block' : 'none';\n",
              "\n",
              "        async function convertToInteractive(key) {\n",
              "          const element = document.querySelector('#df-29596ab2-2ff5-406b-bcef-8c0a41086c66');\n",
              "          const dataTable =\n",
              "            await google.colab.kernel.invokeFunction('convertToInteractive',\n",
              "                                                     [key], {});\n",
              "          if (!dataTable) return;\n",
              "\n",
              "          const docLinkHtml = 'Like what you see? Visit the ' +\n",
              "            '<a target=\"_blank\" href=https://colab.research.google.com/notebooks/data_table.ipynb>data table notebook</a>'\n",
              "            + ' to learn more about interactive tables.';\n",
              "          element.innerHTML = '';\n",
              "          dataTable['output_type'] = 'display_data';\n",
              "          await google.colab.output.renderOutput(dataTable, element);\n",
              "          const docLink = document.createElement('div');\n",
              "          docLink.innerHTML = docLinkHtml;\n",
              "          element.appendChild(docLink);\n",
              "        }\n",
              "      </script>\n",
              "    </div>\n",
              "  </div>\n",
              "  "
            ]
          },
          "metadata": {},
          "execution_count": 50
        }
      ]
    },
    {
      "cell_type": "markdown",
      "source": [
        "## Tokenización de los datos 🔡"
      ],
      "metadata": {
        "id": "0SmdAdlE3wvt"
      }
    },
    {
      "cell_type": "code",
      "source": [
        "from sklearn.feature_extraction.text import CountVectorizer"
      ],
      "metadata": {
        "id": "yyzsqis031Ml"
      },
      "execution_count": 51,
      "outputs": []
    },
    {
      "cell_type": "code",
      "source": [
        "sample_data = [\"This is my first paper\", \"This is the second document\", \"here is the third thi one\"]"
      ],
      "metadata": {
        "id": "QbCGoST735A0"
      },
      "execution_count": 52,
      "outputs": []
    },
    {
      "cell_type": "code",
      "source": [
        "vectorizer = CountVectorizer()"
      ],
      "metadata": {
        "id": "xtsbLmtW37J7"
      },
      "execution_count": 53,
      "outputs": []
    },
    {
      "cell_type": "code",
      "source": [
        "X = vectorizer.fit_transform(sample_data)"
      ],
      "metadata": {
        "id": "NzY_HO6Y37-5"
      },
      "execution_count": 54,
      "outputs": []
    },
    {
      "cell_type": "code",
      "source": [
        "vectorizer.get_feature_names_out()"
      ],
      "metadata": {
        "colab": {
          "base_uri": "https://localhost:8080/"
        },
        "id": "WyhG1f1K3_-T",
        "outputId": "7f75cf51-4da7-45a9-d77b-59012f461d48"
      },
      "execution_count": 55,
      "outputs": [
        {
          "output_type": "execute_result",
          "data": {
            "text/plain": [
              "array(['document', 'first', 'here', 'is', 'my', 'one', 'paper', 'second',\n",
              "       'the', 'thi', 'third', 'this'], dtype=object)"
            ]
          },
          "metadata": {},
          "execution_count": 55
        }
      ]
    },
    {
      "cell_type": "code",
      "source": [
        "X.toarray()"
      ],
      "metadata": {
        "colab": {
          "base_uri": "https://localhost:8080/"
        },
        "id": "n1neaQdG4CJ8",
        "outputId": "0da71ab8-b428-44f1-ea10-6db483318357"
      },
      "execution_count": 56,
      "outputs": [
        {
          "output_type": "execute_result",
          "data": {
            "text/plain": [
              "array([[0, 1, 0, 1, 1, 0, 1, 0, 0, 0, 0, 1],\n",
              "       [1, 0, 0, 1, 0, 0, 0, 1, 1, 0, 0, 1],\n",
              "       [0, 0, 1, 1, 0, 1, 0, 0, 1, 1, 1, 0]])"
            ]
          },
          "metadata": {},
          "execution_count": 56
        }
      ]
    },
    {
      "cell_type": "code",
      "source": [
        "data = train_data['clean_es'].tolist()"
      ],
      "metadata": {
        "id": "DwE7xC514XBr"
      },
      "execution_count": 57,
      "outputs": []
    },
    {
      "cell_type": "code",
      "source": [
        "data_countvectorizer = CountVectorizer(dtype=np.uint8).fit_transform(data)"
      ],
      "metadata": {
        "id": "HdN8FEuC4mzk"
      },
      "execution_count": 58,
      "outputs": []
    },
    {
      "cell_type": "code",
      "source": [
        "data_countvectorizer.shape"
      ],
      "metadata": {
        "id": "beWziOy84yYj",
        "colab": {
          "base_uri": "https://localhost:8080/"
        },
        "outputId": "540f18f2-1c57-4c22-b33b-dbb170fa38e8"
      },
      "execution_count": 59,
      "outputs": [
        {
          "output_type": "execute_result",
          "data": {
            "text/plain": [
              "(39682, 156294)"
            ]
          },
          "metadata": {},
          "execution_count": 59
        }
      ]
    },
    {
      "cell_type": "code",
      "source": [
        "X = data_countvectorizer\n",
        "y = train_data['sentiment']"
      ],
      "metadata": {
        "id": "-BuyrXrt44JC"
      },
      "execution_count": 60,
      "outputs": []
    },
    {
      "cell_type": "markdown",
      "source": [
        "## Implementación de Naïve Bayes para clasificación 🤖"
      ],
      "metadata": {
        "id": "drXnzYg4468M"
      }
    },
    {
      "cell_type": "code",
      "source": [
        "from sklearn.model_selection import train_test_split"
      ],
      "metadata": {
        "id": "-Of09Lti4_T6"
      },
      "execution_count": 61,
      "outputs": []
    },
    {
      "cell_type": "code",
      "source": [
        "from sklearn.utils import shuffle\n",
        "test_size = int(X.shape[0] * 0.2)\n",
        "\n",
        "\n",
        "# Divide los datos en conjuntos de entrenamiento y prueba\n",
        "X_test = X[:test_size]\n",
        "X_train = X[test_size:]\n",
        "y_test = y[:test_size]\n",
        "y_train = y[test_size:]"
      ],
      "metadata": {
        "id": "Sm5hxQZ65Cv8"
      },
      "execution_count": 62,
      "outputs": []
    },
    {
      "cell_type": "code",
      "source": [
        "from sklearn.naive_bayes import MultinomialNB #for discrete values"
      ],
      "metadata": {
        "id": "jWgi8yVH5FJy"
      },
      "execution_count": 63,
      "outputs": []
    },
    {
      "cell_type": "code",
      "source": [
        "alpha = 1\n",
        "fit_prior = False\n",
        "\n",
        "NB_classifier = MultinomialNB(alpha=alpha, fit_prior=fit_prior)"
      ],
      "metadata": {
        "id": "ya-j0ofE5G2i"
      },
      "execution_count": 64,
      "outputs": []
    },
    {
      "cell_type": "code",
      "source": [
        "NB_classifier.fit(X_train, y_train)"
      ],
      "metadata": {
        "id": "xJP-kfqu5Irb",
        "colab": {
          "base_uri": "https://localhost:8080/",
          "height": 75
        },
        "outputId": "68965c20-9056-4741-8c08-cd279564fb93"
      },
      "execution_count": 65,
      "outputs": [
        {
          "output_type": "execute_result",
          "data": {
            "text/plain": [
              "MultinomialNB(alpha=1, fit_prior=False)"
            ],
            "text/html": [
              "<style>#sk-container-id-3 {color: black;background-color: white;}#sk-container-id-3 pre{padding: 0;}#sk-container-id-3 div.sk-toggleable {background-color: white;}#sk-container-id-3 label.sk-toggleable__label {cursor: pointer;display: block;width: 100%;margin-bottom: 0;padding: 0.3em;box-sizing: border-box;text-align: center;}#sk-container-id-3 label.sk-toggleable__label-arrow:before {content: \"▸\";float: left;margin-right: 0.25em;color: #696969;}#sk-container-id-3 label.sk-toggleable__label-arrow:hover:before {color: black;}#sk-container-id-3 div.sk-estimator:hover label.sk-toggleable__label-arrow:before {color: black;}#sk-container-id-3 div.sk-toggleable__content {max-height: 0;max-width: 0;overflow: hidden;text-align: left;background-color: #f0f8ff;}#sk-container-id-3 div.sk-toggleable__content pre {margin: 0.2em;color: black;border-radius: 0.25em;background-color: #f0f8ff;}#sk-container-id-3 input.sk-toggleable__control:checked~div.sk-toggleable__content {max-height: 200px;max-width: 100%;overflow: auto;}#sk-container-id-3 input.sk-toggleable__control:checked~label.sk-toggleable__label-arrow:before {content: \"▾\";}#sk-container-id-3 div.sk-estimator input.sk-toggleable__control:checked~label.sk-toggleable__label {background-color: #d4ebff;}#sk-container-id-3 div.sk-label input.sk-toggleable__control:checked~label.sk-toggleable__label {background-color: #d4ebff;}#sk-container-id-3 input.sk-hidden--visually {border: 0;clip: rect(1px 1px 1px 1px);clip: rect(1px, 1px, 1px, 1px);height: 1px;margin: -1px;overflow: hidden;padding: 0;position: absolute;width: 1px;}#sk-container-id-3 div.sk-estimator {font-family: monospace;background-color: #f0f8ff;border: 1px dotted black;border-radius: 0.25em;box-sizing: border-box;margin-bottom: 0.5em;}#sk-container-id-3 div.sk-estimator:hover {background-color: #d4ebff;}#sk-container-id-3 div.sk-parallel-item::after {content: \"\";width: 100%;border-bottom: 1px solid gray;flex-grow: 1;}#sk-container-id-3 div.sk-label:hover label.sk-toggleable__label {background-color: #d4ebff;}#sk-container-id-3 div.sk-serial::before {content: \"\";position: absolute;border-left: 1px solid gray;box-sizing: border-box;top: 0;bottom: 0;left: 50%;z-index: 0;}#sk-container-id-3 div.sk-serial {display: flex;flex-direction: column;align-items: center;background-color: white;padding-right: 0.2em;padding-left: 0.2em;position: relative;}#sk-container-id-3 div.sk-item {position: relative;z-index: 1;}#sk-container-id-3 div.sk-parallel {display: flex;align-items: stretch;justify-content: center;background-color: white;position: relative;}#sk-container-id-3 div.sk-item::before, #sk-container-id-3 div.sk-parallel-item::before {content: \"\";position: absolute;border-left: 1px solid gray;box-sizing: border-box;top: 0;bottom: 0;left: 50%;z-index: -1;}#sk-container-id-3 div.sk-parallel-item {display: flex;flex-direction: column;z-index: 1;position: relative;background-color: white;}#sk-container-id-3 div.sk-parallel-item:first-child::after {align-self: flex-end;width: 50%;}#sk-container-id-3 div.sk-parallel-item:last-child::after {align-self: flex-start;width: 50%;}#sk-container-id-3 div.sk-parallel-item:only-child::after {width: 0;}#sk-container-id-3 div.sk-dashed-wrapped {border: 1px dashed gray;margin: 0 0.4em 0.5em 0.4em;box-sizing: border-box;padding-bottom: 0.4em;background-color: white;}#sk-container-id-3 div.sk-label label {font-family: monospace;font-weight: bold;display: inline-block;line-height: 1.2em;}#sk-container-id-3 div.sk-label-container {text-align: center;}#sk-container-id-3 div.sk-container {/* jupyter's `normalize.less` sets `[hidden] { display: none; }` but bootstrap.min.css set `[hidden] { display: none !important; }` so we also need the `!important` here to be able to override the default hidden behavior on the sphinx rendered scikit-learn.org. See: https://github.com/scikit-learn/scikit-learn/issues/21755 */display: inline-block !important;position: relative;}#sk-container-id-3 div.sk-text-repr-fallback {display: none;}</style><div id=\"sk-container-id-3\" class=\"sk-top-container\"><div class=\"sk-text-repr-fallback\"><pre>MultinomialNB(alpha=1, fit_prior=False)</pre><b>In a Jupyter environment, please rerun this cell to show the HTML representation or trust the notebook. <br />On GitHub, the HTML representation is unable to render, please try loading this page with nbviewer.org.</b></div><div class=\"sk-container\" hidden><div class=\"sk-item\"><div class=\"sk-estimator sk-toggleable\"><input class=\"sk-toggleable__control sk-hidden--visually\" id=\"sk-estimator-id-3\" type=\"checkbox\" checked><label for=\"sk-estimator-id-3\" class=\"sk-toggleable__label sk-toggleable__label-arrow\">MultinomialNB</label><div class=\"sk-toggleable__content\"><pre>MultinomialNB(alpha=1, fit_prior=False)</pre></div></div></div></div></div>"
            ]
          },
          "metadata": {},
          "execution_count": 65
        }
      ]
    },
    {
      "cell_type": "code",
      "source": [
        "y_pred = NB_classifier.predict(X_test)"
      ],
      "metadata": {
        "id": "_JXV3fKG5MGZ"
      },
      "execution_count": 66,
      "outputs": []
    },
    {
      "cell_type": "code",
      "source": [
        "from sklearn.metrics import confusion_matrix, classification_report, accuracy_score"
      ],
      "metadata": {
        "id": "MyNNyRLA5Nqb"
      },
      "execution_count": 67,
      "outputs": []
    },
    {
      "cell_type": "code",
      "source": [
        "cm = confusion_matrix(y_test, y_pred)\n",
        "cm"
      ],
      "metadata": {
        "id": "4G2AzGFg5PFq",
        "colab": {
          "base_uri": "https://localhost:8080/"
        },
        "outputId": "c35441ef-a4d6-4ffd-f315-f9732b607455"
      },
      "execution_count": 68,
      "outputs": [
        {
          "output_type": "execute_result",
          "data": {
            "text/plain": [
              "array([[3413,  547],\n",
              "       [ 643, 3333]])"
            ]
          },
          "metadata": {},
          "execution_count": 68
        }
      ]
    },
    {
      "cell_type": "code",
      "source": [
        "ac = accuracy_score(y_test, y_pred)\n",
        "ac"
      ],
      "metadata": {
        "id": "1lt5P-d55Tb8",
        "colab": {
          "base_uri": "https://localhost:8080/"
        },
        "outputId": "58516df4-13d1-4a99-b34a-3988119a3499"
      },
      "execution_count": 69,
      "outputs": [
        {
          "output_type": "execute_result",
          "data": {
            "text/plain": [
              "0.8500504032258065"
            ]
          },
          "metadata": {},
          "execution_count": 69
        }
      ]
    },
    {
      "cell_type": "code",
      "source": [
        "print(classification_report(y_test, y_pred))"
      ],
      "metadata": {
        "id": "JQd5_OYU5Vjh",
        "colab": {
          "base_uri": "https://localhost:8080/"
        },
        "outputId": "b70052fc-9c35-4074-d6c3-2adda5562e5a"
      },
      "execution_count": 70,
      "outputs": [
        {
          "output_type": "stream",
          "name": "stdout",
          "text": [
            "              precision    recall  f1-score   support\n",
            "\n",
            "           0       0.84      0.86      0.85      3960\n",
            "           1       0.86      0.84      0.85      3976\n",
            "\n",
            "    accuracy                           0.85      7936\n",
            "   macro avg       0.85      0.85      0.85      7936\n",
            "weighted avg       0.85      0.85      0.85      7936\n",
            "\n"
          ]
        }
      ]
    }
  ]
}